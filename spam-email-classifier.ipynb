{
 "cells": [
  {
   "cell_type": "markdown",
   "id": "5c874a25",
   "metadata": {
    "papermill": {
     "duration": 0.010031,
     "end_time": "2023-12-10T18:06:21.917372",
     "exception": false,
     "start_time": "2023-12-10T18:06:21.907341",
     "status": "completed"
    },
    "tags": []
   },
   "source": [
    "<img src=\"https://miro.medium.com/v2/resize:fit:920/1*CS-OYdiRLCBMBiOpEURy0g.png\" width=\"700\" height=\"300\">\n",
    "\n",
    "\n",
    "<div style=\"border-radius:10px; padding: 12px; background-color: #faf5ed; font-size:100%; text-align:left\">\n",
    "\n",
    "<h2 align=\"left\"><font color=#fc7651>Introduction</font></h2>\n",
    "    \n",
    "The goal of this project is to develop a robust email spam detection system using machine\n",
    "learning techniques. By analyzing the content and characteristics of emails, the system should\n",
    "be able to accurately classify incoming emails as either spam or legitimate (ham).\n",
    "\n",
    "\n",
    "**We will be exploring below models:**\n",
    "- Multi-Layer Perceptron (MLP) classifier\n",
    "- Multinomial Naive Bayes algorithm\n",
    "- Bernoulli Naive Bayes algorithm\n",
    "    \n",
    "**Data Dictionary:**\n",
    "The data consist of two columns, \n",
    "1. v2 which is the actual email\n",
    "2. v1 Label of whether the email is Spam or Ham(not spam)"
   ]
  },
  {
   "cell_type": "markdown",
   "id": "a1b5a9b3",
   "metadata": {
    "papermill": {
     "duration": 0.009322,
     "end_time": "2023-12-10T18:06:21.936436",
     "exception": false,
     "start_time": "2023-12-10T18:06:21.927114",
     "status": "completed"
    },
    "tags": []
   },
   "source": [
    "## <b><span style='color:#28838a'> | </span><span style='color:#fc7651'> Importing the Libraries & Loading data </span></b>"
   ]
  },
  {
   "cell_type": "code",
   "execution_count": 1,
   "id": "3e292328",
   "metadata": {
    "execution": {
     "iopub.execute_input": "2023-12-10T18:06:21.957526Z",
     "iopub.status.busy": "2023-12-10T18:06:21.957055Z",
     "iopub.status.idle": "2023-12-10T18:06:25.901550Z",
     "shell.execute_reply": "2023-12-10T18:06:25.900268Z"
    },
    "papermill": {
     "duration": 3.958628,
     "end_time": "2023-12-10T18:06:25.904563",
     "exception": false,
     "start_time": "2023-12-10T18:06:21.945935",
     "status": "completed"
    },
    "tags": []
   },
   "outputs": [],
   "source": [
    "# Import the libraries\n",
    "import numpy as np\n",
    "import pandas as pd\n",
    "import matplotlib.pyplot as plt\n",
    "import matplotlib.style\n",
    "import seaborn as sns\n",
    "import nltk #Natural Language Toolkit\n",
    "#To ignore warnings\n",
    "import warnings\n",
    "warnings.filterwarnings('ignore')\n",
    "\n",
    "from sklearn.metrics import accuracy_score, precision_score, recall_score, f1_score\n"
   ]
  },
  {
   "cell_type": "code",
   "execution_count": 3,
   "id": "e8c9475a",
   "metadata": {
    "execution": {
     "iopub.execute_input": "2023-12-10T18:06:25.925489Z",
     "iopub.status.busy": "2023-12-10T18:06:25.924844Z",
     "iopub.status.idle": "2023-12-10T18:06:25.987350Z",
     "shell.execute_reply": "2023-12-10T18:06:25.985899Z"
    },
    "papermill": {
     "duration": 0.076037,
     "end_time": "2023-12-10T18:06:25.990051",
     "exception": false,
     "start_time": "2023-12-10T18:06:25.914014",
     "status": "completed"
    },
    "tags": []
   },
   "outputs": [
    {
     "data": {
      "text/html": [
       "<div>\n",
       "<style scoped>\n",
       "    .dataframe tbody tr th:only-of-type {\n",
       "        vertical-align: middle;\n",
       "    }\n",
       "\n",
       "    .dataframe tbody tr th {\n",
       "        vertical-align: top;\n",
       "    }\n",
       "\n",
       "    .dataframe thead th {\n",
       "        text-align: right;\n",
       "    }\n",
       "</style>\n",
       "<table border=\"1\" class=\"dataframe\">\n",
       "  <thead>\n",
       "    <tr style=\"text-align: right;\">\n",
       "      <th></th>\n",
       "      <th>label</th>\n",
       "      <th>text</th>\n",
       "    </tr>\n",
       "  </thead>\n",
       "  <tbody>\n",
       "    <tr>\n",
       "      <th>0</th>\n",
       "      <td>spam</td>\n",
       "      <td>naturally irresistible your corporate identity...</td>\n",
       "    </tr>\n",
       "    <tr>\n",
       "      <th>1</th>\n",
       "      <td>spam</td>\n",
       "      <td>the stock trading gunslinger fanny is merrill ...</td>\n",
       "    </tr>\n",
       "    <tr>\n",
       "      <th>2</th>\n",
       "      <td>spam</td>\n",
       "      <td>unbelievable new homes made easy im wanting to...</td>\n",
       "    </tr>\n",
       "    <tr>\n",
       "      <th>3</th>\n",
       "      <td>spam</td>\n",
       "      <td>4 color printing special request additional in...</td>\n",
       "    </tr>\n",
       "    <tr>\n",
       "      <th>4</th>\n",
       "      <td>spam</td>\n",
       "      <td>do not have money get software cds from here s...</td>\n",
       "    </tr>\n",
       "  </tbody>\n",
       "</table>\n",
       "</div>"
      ],
      "text/plain": [
       "  label                                               text\n",
       "0  spam  naturally irresistible your corporate identity...\n",
       "1  spam  the stock trading gunslinger fanny is merrill ...\n",
       "2  spam  unbelievable new homes made easy im wanting to...\n",
       "3  spam  4 color printing special request additional in...\n",
       "4  spam  do not have money get software cds from here s..."
      ]
     },
     "execution_count": 3,
     "metadata": {},
     "output_type": "execute_result"
    }
   ],
   "source": [
    "#Load data & print samples\n",
    "df = pd.read_csv('spam_dataset.csv',encoding='latin-1')\n",
    "df.head()"
   ]
  },
  {
   "cell_type": "code",
   "execution_count": 8,
   "id": "6f474489",
   "metadata": {
    "execution": {
     "iopub.execute_input": "2023-12-10T18:06:26.012561Z",
     "iopub.status.busy": "2023-12-10T18:06:26.011602Z",
     "iopub.status.idle": "2023-12-10T18:06:26.034889Z",
     "shell.execute_reply": "2023-12-10T18:06:26.033510Z"
    },
    "papermill": {
     "duration": 0.038287,
     "end_time": "2023-12-10T18:06:26.038114",
     "exception": false,
     "start_time": "2023-12-10T18:06:25.999827",
     "status": "completed"
    },
    "tags": []
   },
   "outputs": [
    {
     "data": {
      "text/html": [
       "<div>\n",
       "<style scoped>\n",
       "    .dataframe tbody tr th:only-of-type {\n",
       "        vertical-align: middle;\n",
       "    }\n",
       "\n",
       "    .dataframe tbody tr th {\n",
       "        vertical-align: top;\n",
       "    }\n",
       "\n",
       "    .dataframe thead th {\n",
       "        text-align: right;\n",
       "    }\n",
       "</style>\n",
       "<table border=\"1\" class=\"dataframe\">\n",
       "  <thead>\n",
       "    <tr style=\"text-align: right;\">\n",
       "      <th></th>\n",
       "      <th>Category</th>\n",
       "      <th>Text</th>\n",
       "    </tr>\n",
       "  </thead>\n",
       "  <tbody>\n",
       "    <tr>\n",
       "      <th>0</th>\n",
       "      <td>spam</td>\n",
       "      <td>naturally irresistible your corporate identity...</td>\n",
       "    </tr>\n",
       "    <tr>\n",
       "      <th>1</th>\n",
       "      <td>spam</td>\n",
       "      <td>the stock trading gunslinger fanny is merrill ...</td>\n",
       "    </tr>\n",
       "    <tr>\n",
       "      <th>2</th>\n",
       "      <td>spam</td>\n",
       "      <td>unbelievable new homes made easy im wanting to...</td>\n",
       "    </tr>\n",
       "    <tr>\n",
       "      <th>3</th>\n",
       "      <td>spam</td>\n",
       "      <td>4 color printing special request additional in...</td>\n",
       "    </tr>\n",
       "    <tr>\n",
       "      <th>4</th>\n",
       "      <td>spam</td>\n",
       "      <td>do not have money get software cds from here s...</td>\n",
       "    </tr>\n",
       "  </tbody>\n",
       "</table>\n",
       "</div>"
      ],
      "text/plain": [
       "  Category                                               Text\n",
       "0     spam  naturally irresistible your corporate identity...\n",
       "1     spam  the stock trading gunslinger fanny is merrill ...\n",
       "2     spam  unbelievable new homes made easy im wanting to...\n",
       "3     spam  4 color printing special request additional in...\n",
       "4     spam  do not have money get software cds from here s..."
      ]
     },
     "execution_count": 8,
     "metadata": {},
     "output_type": "execute_result"
    }
   ],
   "source": [
    "\n",
    "# Renaming v1 & v2 as Category & Text\n",
    "df=df.rename(columns={\"label\":\"Category\",\"text\":\"Text\"})\n",
    "\n",
    "#Sample post modifications\n",
    "df.head()"
   ]
  },
  {
   "cell_type": "markdown",
   "id": "df5ecd5a",
   "metadata": {
    "papermill": {
     "duration": 0.009768,
     "end_time": "2023-12-10T18:06:26.058438",
     "exception": false,
     "start_time": "2023-12-10T18:06:26.048670",
     "status": "completed"
    },
    "tags": []
   },
   "source": [
    "## <b><span style='color:#28838a'> | </span><span style='color:#fc7651'> Exploratory Data Analysis</span></b>"
   ]
  },
  {
   "cell_type": "code",
   "execution_count": 9,
   "id": "4cd9b6b1",
   "metadata": {
    "execution": {
     "iopub.execute_input": "2023-12-10T18:06:26.081470Z",
     "iopub.status.busy": "2023-12-10T18:06:26.080491Z",
     "iopub.status.idle": "2023-12-10T18:06:26.088975Z",
     "shell.execute_reply": "2023-12-10T18:06:26.087361Z"
    },
    "papermill": {
     "duration": 0.023804,
     "end_time": "2023-12-10T18:06:26.092300",
     "exception": false,
     "start_time": "2023-12-10T18:06:26.068496",
     "status": "completed"
    },
    "tags": []
   },
   "outputs": [
    {
     "name": "stdout",
     "output_type": "stream",
     "text": [
      " Total number of rows in the dataset are 20348\n"
     ]
    }
   ],
   "source": [
    "#Let's check the length of the dataset\n",
    "print(\" Total number of rows in the dataset are\", len(df))"
   ]
  },
  {
   "cell_type": "code",
   "execution_count": 10,
   "id": "2a6dc4d6",
   "metadata": {
    "execution": {
     "iopub.execute_input": "2023-12-10T18:06:26.115908Z",
     "iopub.status.busy": "2023-12-10T18:06:26.114670Z",
     "iopub.status.idle": "2023-12-10T18:06:26.431622Z",
     "shell.execute_reply": "2023-12-10T18:06:26.430489Z"
    },
    "papermill": {
     "duration": 0.331761,
     "end_time": "2023-12-10T18:06:26.434361",
     "exception": false,
     "start_time": "2023-12-10T18:06:26.102600",
     "status": "completed"
    },
    "tags": []
   },
   "outputs": [
    {
     "name": "stdout",
     "output_type": "stream",
     "text": [
      "Label distribution (%): Category\n",
      "ham     70.5\n",
      "spam    29.5\n",
      "Name: proportion, dtype: float64\n"
     ]
    },
    {
     "data": {
      "image/png": "[encoded data removed]",
      "text/plain": [
       "<Figure size 800x200 with 1 Axes>"
      ]
     },
     "metadata": {},
     "output_type": "display_data"
    }
   ],
   "source": [
    "#Let's check the distribution of the Ham & Spam\n",
    "\n",
    "print('Label distribution (%):', round(df.Category.value_counts(normalize=True),3)*100)\n",
    "plt.figure(figsize=(8,2))\n",
    "ax=sns.countplot(data=df, y='Category')\n",
    "for container in ax.containers:\n",
    "    ax.bar_label(container)\n",
    "plt.tight_layout()\n"
   ]
  },
  {
   "cell_type": "code",
   "execution_count": 11,
   "id": "54ab99ab",
   "metadata": {
    "execution": {
     "iopub.execute_input": "2023-12-10T18:06:26.459447Z",
     "iopub.status.busy": "2023-12-10T18:06:26.457951Z",
     "iopub.status.idle": "2023-12-10T18:06:26.483199Z",
     "shell.execute_reply": "2023-12-10T18:06:26.481524Z"
    },
    "papermill": {
     "duration": 0.041816,
     "end_time": "2023-12-10T18:06:26.486633",
     "exception": false,
     "start_time": "2023-12-10T18:06:26.444817",
     "status": "completed"
    },
    "tags": []
   },
   "outputs": [
    {
     "data": {
      "text/html": [
       "<div>\n",
       "<style scoped>\n",
       "    .dataframe tbody tr th:only-of-type {\n",
       "        vertical-align: middle;\n",
       "    }\n",
       "\n",
       "    .dataframe tbody tr th {\n",
       "        vertical-align: top;\n",
       "    }\n",
       "\n",
       "    .dataframe thead th {\n",
       "        text-align: right;\n",
       "    }\n",
       "</style>\n",
       "<table border=\"1\" class=\"dataframe\">\n",
       "  <thead>\n",
       "    <tr style=\"text-align: right;\">\n",
       "      <th></th>\n",
       "      <th>Category</th>\n",
       "      <th>Text</th>\n",
       "    </tr>\n",
       "  </thead>\n",
       "  <tbody>\n",
       "    <tr>\n",
       "      <th>count</th>\n",
       "      <td>20348</td>\n",
       "      <td>20348</td>\n",
       "    </tr>\n",
       "    <tr>\n",
       "      <th>unique</th>\n",
       "      <td>2</td>\n",
       "      <td>20334</td>\n",
       "    </tr>\n",
       "    <tr>\n",
       "      <th>top</th>\n",
       "      <td>ham</td>\n",
       "      <td>SPAM ALERT  ð  User:     Username: @DillyBu...</td>\n",
       "    </tr>\n",
       "    <tr>\n",
       "      <th>freq</th>\n",
       "      <td>14337</td>\n",
       "      <td>8</td>\n",
       "    </tr>\n",
       "  </tbody>\n",
       "</table>\n",
       "</div>"
      ],
      "text/plain": [
       "       Category                                               Text\n",
       "count     20348                                              20348\n",
       "unique        2                                              20334\n",
       "top         ham  SPAM ALERT  ð  User:     Username: @DillyBu...\n",
       "freq      14337                                                  8"
      ]
     },
     "execution_count": 11,
     "metadata": {},
     "output_type": "execute_result"
    }
   ],
   "source": [
    "#Descriptive Summary of the dataset\n",
    "df.describe()"
   ]
  },
  {
   "cell_type": "markdown",
   "id": "e79637fb",
   "metadata": {
    "papermill": {
     "duration": 0.010653,
     "end_time": "2023-12-10T18:06:26.508445",
     "exception": false,
     "start_time": "2023-12-10T18:06:26.497792",
     "status": "completed"
    },
    "tags": []
   },
   "source": [
    "<div style=\"border-radius:10px; padding: 10px; background-color: #faf5ed; font-size:100%; text-align:left\">\n",
    "\n",
    "- The dataset has **4825 emails (86.6%)** labled as Ham while **747 (13.4%)** labaled as Spam.\n",
    "- \"ham\" is the predominant category.\n",
    "- The dataset contains 5,169 unique texts.\n",
    "- The most frequent text being \"Sorry, I'll call later,\" occurring 30 times."
   ]
  },
  {
   "cell_type": "code",
   "execution_count": 12,
   "id": "95930ea5",
   "metadata": {
    "execution": {
     "iopub.execute_input": "2023-12-10T18:06:26.534122Z",
     "iopub.status.busy": "2023-12-10T18:06:26.532844Z",
     "iopub.status.idle": "2023-12-10T18:06:30.017550Z",
     "shell.execute_reply": "2023-12-10T18:06:30.016239Z"
    },
    "papermill": {
     "duration": 3.501096,
     "end_time": "2023-12-10T18:06:30.020641",
     "exception": false,
     "start_time": "2023-12-10T18:06:26.519545",
     "status": "completed"
    },
    "tags": []
   },
   "outputs": [
    {
     "data": {
      "text/html": [
       "<div>\n",
       "<style scoped>\n",
       "    .dataframe tbody tr th:only-of-type {\n",
       "        vertical-align: middle;\n",
       "    }\n",
       "\n",
       "    .dataframe tbody tr th {\n",
       "        vertical-align: top;\n",
       "    }\n",
       "\n",
       "    .dataframe thead th {\n",
       "        text-align: right;\n",
       "    }\n",
       "</style>\n",
       "<table border=\"1\" class=\"dataframe\">\n",
       "  <thead>\n",
       "    <tr style=\"text-align: right;\">\n",
       "      <th></th>\n",
       "      <th>Category</th>\n",
       "      <th>Text</th>\n",
       "      <th>Length</th>\n",
       "    </tr>\n",
       "  </thead>\n",
       "  <tbody>\n",
       "    <tr>\n",
       "      <th>0</th>\n",
       "      <td>spam</td>\n",
       "      <td>naturally irresistible your corporate identity...</td>\n",
       "      <td>769</td>\n",
       "    </tr>\n",
       "    <tr>\n",
       "      <th>1</th>\n",
       "      <td>spam</td>\n",
       "      <td>the stock trading gunslinger fanny is merrill ...</td>\n",
       "      <td>585</td>\n",
       "    </tr>\n",
       "    <tr>\n",
       "      <th>2</th>\n",
       "      <td>spam</td>\n",
       "      <td>unbelievable new homes made easy im wanting to...</td>\n",
       "      <td>416</td>\n",
       "    </tr>\n",
       "    <tr>\n",
       "      <th>3</th>\n",
       "      <td>spam</td>\n",
       "      <td>4 color printing special request additional in...</td>\n",
       "      <td>436</td>\n",
       "    </tr>\n",
       "    <tr>\n",
       "      <th>4</th>\n",
       "      <td>spam</td>\n",
       "      <td>do not have money get software cds from here s...</td>\n",
       "      <td>199</td>\n",
       "    </tr>\n",
       "  </tbody>\n",
       "</table>\n",
       "</div>"
      ],
      "text/plain": [
       "  Category                                               Text  Length\n",
       "0     spam  naturally irresistible your corporate identity...     769\n",
       "1     spam  the stock trading gunslinger fanny is merrill ...     585\n",
       "2     spam  unbelievable new homes made easy im wanting to...     416\n",
       "3     spam  4 color printing special request additional in...     436\n",
       "4     spam  do not have money get software cds from here s...     199"
      ]
     },
     "metadata": {},
     "output_type": "display_data"
    },
    {
     "ename": "ModuleNotFoundError",
     "evalue": "No module named 'plotly'",
     "output_type": "error",
     "traceback": [
      "\u001b[1;31m---------------------------------------------------------------------------\u001b[0m",
      "\u001b[1;31mModuleNotFoundError\u001b[0m                       Traceback (most recent call last)",
      "Cell \u001b[1;32mIn[12], line 6\u001b[0m\n\u001b[0;32m      3\u001b[0m display(df\u001b[38;5;241m.\u001b[39mhead())\n\u001b[0;32m      5\u001b[0m \u001b[38;5;66;03m#distribution of the data\u001b[39;00m\n\u001b[1;32m----> 6\u001b[0m \u001b[38;5;28;01mimport\u001b[39;00m \u001b[38;5;21;01mplotly\u001b[39;00m\u001b[38;5;21;01m.\u001b[39;00m\u001b[38;5;21;01mexpress\u001b[39;00m \u001b[38;5;28;01mas\u001b[39;00m \u001b[38;5;21;01mpx\u001b[39;00m\n\u001b[0;32m      7\u001b[0m fig \u001b[38;5;241m=\u001b[39m px\u001b[38;5;241m.\u001b[39mhistogram(df, x\u001b[38;5;241m=\u001b[39m\u001b[38;5;124m'\u001b[39m\u001b[38;5;124mLength\u001b[39m\u001b[38;5;124m'\u001b[39m, marginal\u001b[38;5;241m=\u001b[39m\u001b[38;5;124m'\u001b[39m\u001b[38;5;124mrug\u001b[39m\u001b[38;5;124m'\u001b[39m,\n\u001b[0;32m      8\u001b[0m                    title\u001b[38;5;241m=\u001b[39m\u001b[38;5;124m'\u001b[39m\u001b[38;5;124mHistogram of Text Length\u001b[39m\u001b[38;5;124m'\u001b[39m)\n\u001b[0;32m      9\u001b[0m fig\u001b[38;5;241m.\u001b[39mupdate_layout(\n\u001b[0;32m     10\u001b[0m     xaxis_title\u001b[38;5;241m=\u001b[39m\u001b[38;5;124m'\u001b[39m\u001b[38;5;124mLength\u001b[39m\u001b[38;5;124m'\u001b[39m,\n\u001b[0;32m     11\u001b[0m     yaxis_title\u001b[38;5;241m=\u001b[39m\u001b[38;5;124m'\u001b[39m\u001b[38;5;124mFrequency\u001b[39m\u001b[38;5;124m'\u001b[39m,\n\u001b[0;32m     12\u001b[0m     showlegend\u001b[38;5;241m=\u001b[39m\u001b[38;5;28;01mTrue\u001b[39;00m)\n",
      "\u001b[1;31mModuleNotFoundError\u001b[0m: No module named 'plotly'"
     ]
    }
   ],
   "source": [
    "#Let's create a column to check of each text & plot a histogram to check the distirbution\n",
    "df['Length']=df['Text'].apply(len)\n",
    "display(df.head())\n",
    "\n",
    "#distribution of the data\n",
    "import plotly.express as px\n",
    "fig = px.histogram(df, x='Length', marginal='rug',\n",
    "                   title='Histogram of Text Length')\n",
    "fig.update_layout(\n",
    "    xaxis_title='Length',\n",
    "    yaxis_title='Frequency',\n",
    "    showlegend=True)"
   ]
  },
  {
   "cell_type": "code",
   "execution_count": 8,
   "id": "c3360975",
   "metadata": {
    "execution": {
     "iopub.execute_input": "2023-12-10T18:06:30.046850Z",
     "iopub.status.busy": "2023-12-10T18:06:30.045454Z",
     "iopub.status.idle": "2023-12-10T18:06:30.309309Z",
     "shell.execute_reply": "2023-12-10T18:06:30.308026Z"
    },
    "papermill": {
     "duration": 0.279676,
     "end_time": "2023-12-10T18:06:30.312080",
     "exception": false,
     "start_time": "2023-12-10T18:06:30.032404",
     "status": "completed"
    },
    "tags": []
   },
   "outputs": [
    {
     "data": {
      "text/html": [
       "<div>                            <div id=\"389050bb-bfd4-4333-a9ac-b97cb4ed6752\" class=\"plotly-graph-div\" style=\"height:525px; width:100%;\"></div>            <script type=\"text/javascript\">                require([\"plotly\"], function(Plotly) {                    window.PLOTLYENV=window.PLOTLYENV || {};                                    if (document.getElementById(\"389050bb-bfd4-4333-a9ac-b97cb4ed6752\")) {                    Plotly.newPlot(                        \"389050bb-bfd4-4333-a9ac-b97cb4ed6752\",                        [{\"alignmentgroup\":\"True\",\"bingroup\":\"x\",\"hovertemplate\":\"Category=ham\\u003cbr\\u003eLength=%{x}\\u003cbr\\u003ecount=%{y}\\u003cextra\\u003e\\u003c\\u002fextra\\u003e\",\"legendgroup\":\"ham\",\"marker\":{\"color\":\"#636efa\",\"pattern\":{\"shape\":\"\"}},\"name\":\"ham\",\"offsetgroup\":\"ham\",\"orientation\":\"v\",\"showlegend\":true,\"x\":[111,29,49,61,77,160,109,196,35,26,81,58,41,49,53,88,57,144,30,134,75,64,130,189,29,84,123,47,28,27,155,82,142,19,72,32,45,31,67,148,58,124,80,291,76,34,22,40,108,48,25,56,110,124,34,46,29,45,42,20,43,73,50,42,76,22,32,32,36,14,55,121,144,42,41,62,195,141,107,33,51,184,57,81,76,160,183,44,95,43,82,115,30,40,31,96,143,156,72,86,53,52,40,20,244,22,107,28,9,39,25,38,34,46,86,33,27,158,42,25,48,84,33,30,45,59,25,160,384,28,27,157,115,64,85,51,74,67,59,50,94,33,105,61,65,26,146,66,126,159,23,65,24,26,152,34,55,88,185,37,111,92,28,28,64,131,40,28,84,174,24,25,64,156,28,86,39,73,26,23,24,31,58,48,41,32,159,25,161,22,119,69,30,165,34,109,37,33,48,50,65,38,145,51,45,83,155,37,78,30,31,146,44,179,27,179,38,97,43,36,74,3,85,51,26,35,47,47,53,147,37,31,8,38,30,47,56,22,19,29,7,121,58,4,148,160,152,37,55,21,22,50,67,153,51,67,88,157,91,24,57,26,71,55,156,119,142,41,26,119,46,23,51,62,107,157,30,32,31,79,32,86,22,76,232,45,57,26,22,41,28,151,29,34,52,33,85,31,78,50,63,148,129,45,202,168,85,38,15,31,88,160,50,26,31,129,34,54,162,23,53,131,36,143,300,59,42,41,22,31,30,47,25,80,22,115,56,102,118,221,204,114,39,36,48,77,60,168,51,22,152,75,30,95,24,35,29,66,48,24,248,25,27,37,69,150,24,80,25,73,89,58,36,76,47,104,38,69,22,66,94,70,73,42,17,13,45,57,105,47,117,158,79,142,62,71,29,29,148,83,37,44,45,50,298,125,51,28,34,46,81,28,90,18,54,55,45,40,107,50,120,32,34,32,16,67,55,43,23,149,21,23,40,117,62,166,24,136,99,45,23,25,26,168,117,46,26,28,32,57,42,36,50,33,15,177,160,63,84,84,57,169,76,47,130,23,149,32,22,101,281,54,120,138,135,66,40,40,70,160,26,32,51,146,103,45,142,92,26,134,37,22,22,33,109,36,140,51,46,63,95,69,110,55,27,34,24,147,24,29,87,38,104,59,38,38,22,25,87,19,66,156,22,107,65,149,137,25,60,103,37,58,87,58,123,67,66,102,35,8,62,58,20,100,51,36,53,88,133,36,37,127,92,80,35,66,119,65,26,28,45,157,36,94,140,22,57,43,61,56,54,37,25,21,36,153,46,34,80,69,24,108,46,30,22,87,30,143,169,42,18,109,76,73,92,36,54,78,30,40,29,22,77,109,75,76,30,49,269,195,125,48,39,121,162,29,38,25,40,226,70,140,47,63,17,41,80,137,103,29,51,25,149,38,62,181,34,47,40,110,101,42,27,31,82,23,59,133,33,95,135,151,75,103,22,51,137,58,89,81,57,26,32,145,122,143,23,136,94,8,65,71,117,28,150,31,72,70,94,48,98,31,43,71,25,22,48,33,44,47,26,112,19,48,107,38,27,129,131,23,25,42,27,22,98,89,130,215,26,66,372,82,73,76,24,231,87,72,105,54,58,54,118,88,29,136,23,39,35,24,95,73,45,159,92,102,31,77,139,44,276,78,27,79,24,52,68,24,44,24,55,62,104,87,150,49,154,56,126,43,77,49,84,49,79,31,146,23,160,62,39,67,73,148,88,37,23,56,53,73,80,44,92,35,23,106,103,34,77,26,47,24,133,126,78,116,221,59,143,24,38,42,24,159,47,122,126,26,114,7,34,92,90,22,85,63,220,41,60,88,31,37,28,24,118,22,210,50,49,87,61,54,28,49,53,145,162,53,12,142,73,129,33,47,72,148,107,41,23,104,45,26,37,132,63,108,93,43,46,56,37,124,38,53,31,224,24,24,52,48,28,43,49,26,58,17,26,127,103,157,34,128,143,51,60,30,41,103,19,114,78,41,46,136,46,157,24,17,20,84,63,155,122,50,25,44,65,21,47,135,39,83,44,28,24,67,67,33,24,119,910,158,35,24,53,72,19,188,71,23,160,73,106,80,105,43,68,32,159,140,101,31,23,58,37,61,60,54,69,72,40,36,35,34,79,114,64,25,22,35,156,58,31,24,17,152,41,80,85,115,25,45,70,22,43,22,22,72,91,70,140,31,52,40,23,145,54,43,30,39,71,146,73,23,26,59,150,167,26,66,35,26,26,49,38,36,18,48,68,73,49,13,63,133,13,74,48,138,164,40,20,61,61,130,37,31,27,41,49,52,124,63,85,70,55,119,22,43,46,75,43,31,76,51,27,34,129,136,24,33,63,96,53,59,52,45,34,53,111,60,152,55,84,87,84,26,58,46,43,24,97,70,179,54,26,156,47,48,40,81,116,5,81,20,13,37,66,69,55,45,160,25,28,40,156,138,24,70,62,86,174,48,48,25,54,38,46,64,133,36,132,51,48,62,48,39,103,83,84,39,122,154,36,5,30,57,54,34,85,139,35,31,48,94,27,28,41,42,150,162,82,45,56,41,23,112,38,160,32,47,82,25,51,22,30,121,53,84,24,81,152,131,327,49,65,29,207,114,49,108,36,32,50,80,141,23,40,25,22,155,72,203,278,115,27,139,46,115,155,35,82,7,36,73,24,49,48,155,93,99,155,48,42,24,30,44,24,34,144,179,52,82,39,80,35,82,41,27,32,33,41,5,126,153,141,124,38,63,47,22,115,71,34,72,134,26,38,25,27,159,107,13,25,65,33,23,53,104,149,144,51,114,131,174,42,153,37,61,74,93,141,85,78,33,90,147,33,32,5,149,22,132,154,31,51,18,172,76,78,112,58,158,60,154,34,26,31,26,64,179,56,148,90,110,458,36,28,33,51,45,37,39,96,15,29,32,152,29,36,54,29,47,172,32,22,91,53,24,121,36,212,25,59,155,37,79,24,50,75,41,8,36,31,73,127,14,97,73,92,63,58,46,26,143,29,31,156,37,63,33,104,58,62,184,611,61,62,64,47,92,22,338,86,159,30,105,148,30,52,152,43,35,47,25,127,25,143,128,24,43,99,152,37,32,3,28,55,28,121,29,115,39,154,148,44,156,25,41,83,45,73,158,47,159,165,37,41,136,24,35,25,31,36,132,156,30,118,82,147,75,22,90,61,28,42,75,27,14,129,73,88,27,75,11,23,25,81,51,40,156,124,18,6,126,46,30,35,32,23,42,99,96,74,72,76,60,5,31,77,33,25,126,71,75,68,144,59,60,49,66,24,58,107,53,73,149,144,63,159,39,67,131,24,136,34,27,55,27,39,36,23,51,34,34,74,146,32,160,86,32,166,22,26,92,37,46,62,39,50,35,21,107,38,205,158,67,121,26,68,123,61,33,156,41,50,41,153,22,53,62,159,34,151,26,27,52,100,164,39,32,158,120,42,46,44,123,24,29,34,29,47,47,115,37,64,83,124,24,89,67,44,33,28,37,76,150,45,84,24,119,332,80,24,34,65,27,24,53,28,22,23,191,75,23,29,37,40,93,107,52,71,54,51,98,89,50,163,135,32,41,58,50,790,34,35,100,46,183,71,30,34,75,55,33,97,33,64,23,32,128,45,62,85,32,89,63,28,41,110,53,31,27,79,22,40,59,54,84,15,106,30,108,92,87,16,51,50,63,34,160,29,41,68,91,2,66,135,30,35,35,25,23,32,76,45,106,55,124,46,120,72,57,54,49,51,29,37,67,41,92,30,68,46,87,95,23,34,59,158,73,76,65,58,14,27,143,53,52,31,39,83,34,22,89,61,150,123,24,32,22,49,108,119,34,38,26,32,31,117,45,55,38,80,54,62,52,81,36,431,62,375,160,52,138,42,63,22,38,50,83,84,39,76,53,94,38,38,75,62,59,23,37,45,51,24,43,123,43,36,46,35,59,32,50,27,40,37,84,125,45,32,52,39,32,52,40,96,31,276,51,26,36,99,44,23,63,60,41,133,27,42,40,17,81,38,48,35,13,363,40,47,154,31,11,44,88,47,64,24,95,134,23,32,175,38,35,147,51,107,38,60,37,157,185,28,159,79,40,113,30,42,41,113,382,87,49,27,28,26,49,39,38,31,162,25,154,22,34,45,70,77,32,50,30,114,588,114,114,50,141,158,56,29,39,32,37,63,29,48,59,29,24,31,37,193,45,154,3,32,131,52,142,104,43,73,105,54,108,77,42,132,42,22,30,38,54,56,66,65,93,132,112,22,68,119,58,60,54,45,66,67,77,76,77,175,77,102,39,32,30,108,141,130,58,28,77,136,88,127,110,51,30,25,96,64,23,70,31,113,110,36,28,23,45,54,39,154,36,64,36,71,51,17,22,26,144,63,22,89,42,28,135,78,33,27,52,29,33,23,85,101,110,27,58,44,26,91,125,25,69,72,48,28,66,127,62,26,78,23,85,34,41,134,25,30,45,5,23,93,7,24,129,45,65,48,18,24,33,25,51,96,69,25,108,51,65,141,7,41,67,30,37,47,36,29,36,281,27,52,66,121,56,92,66,43,127,43,450,102,88,103,24,95,74,158,482,53,121,31,22,22,38,22,91,66,191,27,67,104,96,38,40,25,24,26,39,54,73,80,21,53,444,41,99,34,27,116,24,75,47,81,115,52,83,41,22,46,57,45,67,26,100,53,632,235,26,114,45,78,51,82,28,85,46,183,22,109,28,25,23,74,50,28,44,88,25,29,39,46,64,15,126,105,49,30,23,84,67,14,68,37,26,84,29,22,201,137,33,101,45,124,84,42,78,70,121,81,42,245,66,139,167,51,55,31,36,28,306,202,160,36,20,6,5,150,74,19,153,45,54,22,22,67,42,179,22,82,22,163,46,158,32,71,34,104,9,95,29,155,24,41,106,32,112,47,28,30,289,80,70,122,59,58,21,27,35,31,66,65,95,32,23,36,55,140,144,30,28,83,40,32,61,116,36,36,37,54,46,65,37,39,44,82,23,155,153,44,117,55,126,109,65,16,50,46,4,35,99,57,136,56,62,25,38,46,32,49,243,42,41,51,81,9,136,9,25,27,45,115,65,139,28,30,53,59,44,26,85,23,27,47,49,126,32,22,107,46,96,157,50,63,29,87,27,33,33,27,26,5,33,34,29,30,140,34,117,45,27,153,41,136,56,64,50,444,27,106,66,54,88,4,54,56,27,95,95,52,80,63,73,169,169,57,56,113,50,23,24,179,101,54,96,59,166,14,46,9,46,84,71,20,44,46,35,28,53,82,26,48,29,41,99,55,22,15,119,154,25,29,29,28,89,56,53,37,26,129,69,21,89,37,39,102,42,63,50,163,200,41,38,26,29,16,23,46,31,28,118,29,63,106,121,44,22,22,116,78,59,43,124,45,142,32,69,79,149,63,155,29,145,22,32,10,61,57,36,52,163,133,55,57,68,123,111,37,74,47,9,149,44,23,26,35,29,131,28,23,52,53,131,11,27,88,166,42,32,588,74,39,26,57,54,94,276,82,160,151,60,51,138,104,75,29,142,40,166,130,15,31,52,234,50,103,25,49,47,27,77,28,34,22,95,22,54,67,73,56,32,25,66,43,121,55,126,27,141,111,125,6,142,46,32,89,64,77,47,42,29,37,86,47,33,23,67,32,31,25,11,129,33,30,183,156,47,32,137,101,59,43,95,142,38,327,29,36,87,35,62,32,24,112,57,26,110,147,32,151,44,30,94,28,164,38,46,23,269,65,24,42,45,54,26,60,141,153,35,32,143,60,96,30,126,41,30,157,71,112,43,14,49,47,42,26,23,30,108,119,37,75,46,51,461,127,44,34,72,30,27,48,90,52,47,22,41,37,173,95,69,27,47,93,32,48,63,75,295,39,120,43,169,101,32,150,40,85,2,135,49,32,29,24,74,242,40,66,25,26,27,23,38,34,55,46,22,42,35,53,112,39,38,129,67,147,61,38,82,15,153,42,155,50,52,54,49,67,139,110,37,40,25,113,28,48,58,66,26,297,148,149,154,36,35,31,70,33,35,23,76,24,41,48,59,53,19,51,122,53,22,155,25,39,119,104,45,18,19,30,91,156,45,42,36,113,141,38,43,29,61,5,33,41,60,44,32,87,66,148,56,148,55,35,31,38,59,27,55,30,33,92,59,160,130,112,52,65,59,23,41,137,35,69,68,68,49,96,46,47,50,28,110,97,46,90,13,41,65,134,145,131,33,14,105,42,40,47,80,72,150,33,33,32,281,44,102,34,73,149,20,22,92,86,28,40,90,47,66,63,147,47,151,37,41,32,24,29,50,35,38,41,118,57,115,51,82,29,23,72,72,33,111,34,86,121,61,14,120,78,50,27,444,79,84,62,33,68,107,37,132,69,85,38,114,151,80,80,158,35,165,42,153,320,93,148,50,72,55,158,54,113,70,77,72,33,32,91,22,148,145,126,28,52,36,126,47,27,41,129,83,41,28,34,39,54,90,35,34,91,52,45,54,77,22,22,368,28,82,55,68,29,115,67,96,25,104,44,18,47,22,31,39,40,69,79,117,38,65,23,3,151,58,24,31,33,54,60,9,71,28,41,29,34,31,11,129,11,28,47,59,31,143,44,65,22,84,160,120,131,40,52,34,23,29,48,38,31,86,34,58,193,34,124,152,65,105,51,29,25,78,30,135,44,91,142,49,54,19,34,107,24,274,118,158,28,127,52,131,155,73,8,57,106,56,49,27,176,92,31,38,156,66,180,63,59,25,24,149,165,63,32,29,35,22,105,3,126,31,75,121,75,95,114,26,48,25,38,7,36,189,125,55,38,29,46,62,32,194,287,37,42,70,77,115,15,49,53,92,33,87,36,134,22,26,24,97,153,139,45,69,40,30,40,84,25,140,73,85,69,23,25,24,30,28,43,39,83,73,47,322,59,42,31,30,36,29,59,154,47,87,126,128,12,53,41,176,99,72,123,69,39,17,22,48,38,30,38,25,28,46,72,41,31,59,28,30,131,55,32,138,125,13,81,155,74,34,84,190,42,37,38,87,43,73,65,36,38,27,21,73,191,104,34,31,154,98,107,27,59,57,136,56,77,44,46,53,32,31,55,40,51,39,43,35,133,160,48,37,169,135,33,52,29,29,103,55,24,54,43,23,51,40,155,83,26,38,82,38,26,25,24,58,46,90,128,70,30,44,69,42,21,158,127,39,47,65,36,36,37,31,18,86,159,92,39,28,66,35,37,38,34,34,30,45,137,24,51,293,28,37,33,33,49,263,50,26,39,58,62,70,50,38,62,152,158,45,22,26,47,48,48,67,30,110,34,65,23,35,22,96,75,81,37,71,21,126,25,302,23,198,32,30,39,98,14,27,37,157,54,39,33,45,144,180,169,61,39,41,74,204,88,74,37,39,35,43,42,37,30,82,32,28,55,67,244,24,159,159,70,57,139,40,86,116,3,53,42,54,33,30,70,94,62,72,142,85,66,32,55,58,16,71,38,44,77,148,32,85,22,38,32,198,104,44,42,61,43,46,76,61,76,46,61,22,50,44,257,159,58,33,96,29,63,53,34,33,65,30,19,36,40,63,4,50,28,57,32,38,86,37,116,77,17,156,38,13,88,64,205,114,78,121,25,46,28,126,46,23,84,72,30,22,48,24,46,86,158,31,25,35,106,48,60,97,36,71,83,153,38,82,94,52,84,33,42,24,54,23,45,37,28,44,73,202,140,13,29,53,132,35,96,73,55,60,83,111,40,141,104,133,26,53,70,67,22,63,33,74,60,144,220,55,127,27,162,112,30,3,61,39,103,48,34,37,89,31,22,36,23,45,42,40,28,84,52,78,54,23,93,24,51,22,23,65,21,29,66,32,34,153,23,32,69,180,255,31,59,138,67,37,122,29,97,76,84,56,36,84,128,96,35,46,276,25,46,153,74,27,63,147,154,70,163,24,85,49,26,48,35,24,49,48,80,39,29,32,75,25,60,154,230,27,94,87,116,126,28,160,60,153,55,22,42,36,34,77,147,55,54,34,22,111,160,89,153,67,48,57,161,139,158,90,29,22,38,92,84,74,40,63,134,35,35,54,27,111,157,124,22,77,37,71,74,28,34,35,67,41,33,83,38,61,32,62,79,22,158,37,23,43,108,23,81,154,85,54,22,34,69,74,102,22,32,77,26,29,52,60,44,77,263,65,31,73,115,131,31,24,71,23,79,24,97,71,38,44,88,155,36,7,71,27,49,46,23,183,118,92,38,87,29,154,45,24,69,141,114,132,85,75,32,37,122,19,106,67,51,40,40,28,152,17,138,60,28,142,139,80,34,290,25,5,63,153,104,82,74,15,77,37,129,54,63,66,329,40,86,82,24,111,156,36,35,112,72,61,27,30,46,32,43,154,55,27,35,39,70,115,68,29,27,34,66,21,139,150,49,19,40,113,44,51,156,33,157,32,46,142,36,117,94,52,180,39,87,47,70,121,14,142,23,64,25,45,36,101,38,142,51,163,146,27,41,25,151,85,30,60,74,61,22,408,56,31,45,138,22,38,53,93,283,36,60,36,154,103,65,149,200,26,124,31,65,39,83,42,35,23,41,72,66,43,46,116,56,55,166,29,96,36,49,61,39,141,30,30,31,73,25,29,381,69,26,36,278,68,50,89,237,236,95,85,44,99,23,145,26,160,97,39,24,33,76,49,15,22,51,28,69,159,44,24,20,126,41,40,162,171,28,62,71,109,135,2,17,21,25,23,74,26,149,24,30,62,132,43,42,58,125,94,104,94,39,26,60,22,158,58,120,47,110,205,73,31,29,152,42,48,137,105,155,45,35,78,159,126,49,73,166,50,142,120,54,153,23,52,90,23,24,156,25,73,34,158,208,56,112,35,34,30,24,46,34,142,75,95,77,79,229,44,117,70,53,106,30,86,38,67,39,97,30,73,35,72,134,106,35,22,31,19,54,29,101,22,89,75,34,27,34,37,172,52,24,54,56,41,89,34,43,43,43,26,55,66,55,49,7,27,28,33,157,38,159,139,22,48,32,80,26,106,51,56,13,33,30,31,35,24,26,49,70,59,64,109,25,24,36,55,36,66,25,37,44,160,63,33,17,40,43,10,51,154,113,147,50,64,26,9,22,10,124,32,24,95,35,59,73,88,77,64,76,55,26,112,77,53,102,79,42,59,32,70,70,124,21,77,25,36,75,36,48,175,237,23,105,62,37,52,22,42,79,133,91,99,62,34,40,157,133,56,93,31,26,83,76,22,42,120,62,24,158,46,61,156,53,73,87,74,58,80,32,147,51,45,29,157,56,68,22,22,84,43,62,46,47,151,240,45,30,114,32,43,110,201,151,86,46,41,84,29,98,86,15,37,42,7,111,42,29,68,62,69,145,38,46,29,121,33,42,89,74,71,45,37,33,54,69,43,81,53,76,22,27,109,12,44,58,5,121,80,22,58,40,299,39,92,158,82,35,66,27,32,85,126,75,92,27,35,145,113,31,22,166,276,171,76,158,22,24,44,51,44,47,44,36,415,32,22,40,24,160,80,27,237,134,33,80,45,48,148,156,38,49,38,48,22,98,149,37,22,33,83,24,38,129,85,46,87,106,95,86,107,40,33,146,136,100,64,73,146,39,32,65,41,152,9,34,66,133,125,132,44,42,142,62,54,54,56,90,111,22,22,57,24,38,32,70,25,96,97,27,9,42,61,51,28,22,26,78,51,42,247,81,15,28,28,78,60,59,59,146,73,47,152,31,66,19,57,100,22,44,67,84,48,43,69,27,72,28,133,98,70,41,111,97,89,31,89,143,43,46,111,27,175,42,138,50,30,49,91,36,30,63,119,26,82,23,53,66,62,74,93,29,43,119,256,51,21,51,85,94,22,31,24,46,65,32,120,36,71,70,166,32,41,98,450,150,47,57,154,33,27,91,39,53,88,28,43,32,73,30,154,107,101,31,49,281,37,70,114,116,47,27,87,88,228,102,133,88,36,77,104,87,28,130,79,184,53,31,85,77,23,76,28,30,75,36,23,33,99,24,67,24,85,28,46,4,55,93,70,86,101,157,49,25,35,48,43,27,18,4,22,69,37,39,134,85,116,42,40,23,61,43,109,30,329,91,31,29,22,40,29,38,41,51,35,89,51,40,112,141,45,71,35,29,143,48,21,98,136,32,43,48,25,19,133,66,58,119,53,38,45,99,77,55,23,21,33,46,23,82,127,74,23,65,278,26,152,45,3,51,45,152,42,101,29,63,168,125,35,38,49,31,24,40,113,119,50,23,47,38,51,32,125,36,55,23,35,87,71,94,99,51,23,162,82,32,146,121,40,27,28,97,159,28,36,64,30,26,189,160,26,29,24,29,47,72,37,125,52,192,126,39,25,35,33,38,77,38,17,130,133,40,11,45,67,40,84,100,145,30,2,125,133,56,42,70,50,135,46,38,46,44,212,51,116,80,48,64,88,161,147,24,101,40,36,26,23,59,104,41,50,40,29,49,45,163,86,129,40,69,28,34,162,23,39,82,36,80,81,10,90,112,40,72,82,37,40,39,22,84,40,45,32,97,102,34,22,51,59,33,26,28,36,44,45,90,99,70,68,104,37,51,23,251,40,38,44,101,27,22,120,51,17,49,89,7,26,3,79,35,122,54,74,50,25,61,35,31,79,169,135,33,23,43,23,65,65,155,118,58,34,45,155,36,82,40,127,149,38,58,61,24,39,25,69,33,245,139,166,122,56,32,35,35,23,103,68,49,25,64,60,40,113,28,329,54,158,26,21,40,38,154,45,42,34,87,43,51,91,27,98,153,63,273,22,66,33,70,96,19,67,12,37,57,125,26],\"xaxis\":\"x\",\"yaxis\":\"y\",\"type\":\"histogram\"},{\"alignmentgroup\":\"True\",\"boxpoints\":\"all\",\"fillcolor\":\"rgba(255,255,255,0)\",\"hoveron\":\"points\",\"hovertemplate\":\"Category=ham\\u003cbr\\u003eLength=%{x}\\u003cextra\\u003e\\u003c\\u002fextra\\u003e\",\"jitter\":0,\"legendgroup\":\"ham\",\"line\":{\"color\":\"rgba(255,255,255,0)\"},\"marker\":{\"color\":\"#636efa\",\"symbol\":\"line-ns-open\"},\"name\":\"ham\",\"offsetgroup\":\"ham\",\"showlegend\":false,\"x\":[111,29,49,61,77,160,109,196,35,26,81,58,41,49,53,88,57,144,30,134,75,64,130,189,29,84,123,47,28,27,155,82,142,19,72,32,45,31,67,148,58,124,80,291,76,34,22,40,108,48,25,56,110,124,34,46,29,45,42,20,43,73,50,42,76,22,32,32,36,14,55,121,144,42,41,62,195,141,107,33,51,184,57,81,76,160,183,44,95,43,82,115,30,40,31,96,143,156,72,86,53,52,40,20,244,22,107,28,9,39,25,38,34,46,86,33,27,158,42,25,48,84,33,30,45,59,25,160,384,28,27,157,115,64,85,51,74,67,59,50,94,33,105,61,65,26,146,66,126,159,23,65,24,26,152,34,55,88,185,37,111,92,28,28,64,131,40,28,84,174,24,25,64,156,28,86,39,73,26,23,24,31,58,48,41,32,159,25,161,22,119,69,30,165,34,109,37,33,48,50,65,38,145,51,45,83,155,37,78,30,31,146,44,179,27,179,38,97,43,36,74,3,85,51,26,35,47,47,53,147,37,31,8,38,30,47,56,22,19,29,7,121,58,4,148,160,152,37,55,21,22,50,67,153,51,67,88,157,91,24,57,26,71,55,156,119,142,41,26,119,46,23,51,62,107,157,30,32,31,79,32,86,22,76,232,45,57,26,22,41,28,151,29,34,52,33,85,31,78,50,63,148,129,45,202,168,85,38,15,31,88,160,50,26,31,129,34,54,162,23,53,131,36,143,300,59,42,41,22,31,30,47,25,80,22,115,56,102,118,221,204,114,39,36,48,77,60,168,51,22,152,75,30,95,24,35,29,66,48,24,248,25,27,37,69,150,24,80,25,73,89,58,36,76,47,104,38,69,22,66,94,70,73,42,17,13,45,57,105,47,117,158,79,142,62,71,29,29,148,83,37,44,45,50,298,125,51,28,34,46,81,28,90,18,54,55,45,40,107,50,120,32,34,32,16,67,55,43,23,149,21,23,40,117,62,166,24,136,99,45,23,25,26,168,117,46,26,28,32,57,42,36,50,33,15,177,160,63,84,84,57,169,76,47,130,23,149,32,22,101,281,54,120,138,135,66,40,40,70,160,26,32,51,146,103,45,142,92,26,134,37,22,22,33,109,36,140,51,46,63,95,69,110,55,27,34,24,147,24,29,87,38,104,59,38,38,22,25,87,19,66,156,22,107,65,149,137,25,60,103,37,58,87,58,123,67,66,102,35,8,62,58,20,100,51,36,53,88,133,36,37,127,92,80,35,66,119,65,26,28,45,157,36,94,140,22,57,43,61,56,54,37,25,21,36,153,46,34,80,69,24,108,46,30,22,87,30,143,169,42,18,109,76,73,92,36,54,78,30,40,29,22,77,109,75,76,30,49,269,195,125,48,39,121,162,29,38,25,40,226,70,140,47,63,17,41,80,137,103,29,51,25,149,38,62,181,34,47,40,110,101,42,27,31,82,23,59,133,33,95,135,151,75,103,22,51,137,58,89,81,57,26,32,145,122,143,23,136,94,8,65,71,117,28,150,31,72,70,94,48,98,31,43,71,25,22,48,33,44,47,26,112,19,48,107,38,27,129,131,23,25,42,27,22,98,89,130,215,26,66,372,82,73,76,24,231,87,72,105,54,58,54,118,88,29,136,23,39,35,24,95,73,45,159,92,102,31,77,139,44,276,78,27,79,24,52,68,24,44,24,55,62,104,87,150,49,154,56,126,43,77,49,84,49,79,31,146,23,160,62,39,67,73,148,88,37,23,56,53,73,80,44,92,35,23,106,103,34,77,26,47,24,133,126,78,116,221,59,143,24,38,42,24,159,47,122,126,26,114,7,34,92,90,22,85,63,220,41,60,88,31,37,28,24,118,22,210,50,49,87,61,54,28,49,53,145,162,53,12,142,73,129,33,47,72,148,107,41,23,104,45,26,37,132,63,108,93,43,46,56,37,124,38,53,31,224,24,24,52,48,28,43,49,26,58,17,26,127,103,157,34,128,143,51,60,30,41,103,19,114,78,41,46,136,46,157,24,17,20,84,63,155,122,50,25,44,65,21,47,135,39,83,44,28,24,67,67,33,24,119,910,158,35,24,53,72,19,188,71,23,160,73,106,80,105,43,68,32,159,140,101,31,23,58,37,61,60,54,69,72,40,36,35,34,79,114,64,25,22,35,156,58,31,24,17,152,41,80,85,115,25,45,70,22,43,22,22,72,91,70,140,31,52,40,23,145,54,43,30,39,71,146,73,23,26,59,150,167,26,66,35,26,26,49,38,36,18,48,68,73,49,13,63,133,13,74,48,138,164,40,20,61,61,130,37,31,27,41,49,52,124,63,85,70,55,119,22,43,46,75,43,31,76,51,27,34,129,136,24,33,63,96,53,59,52,45,34,53,111,60,152,55,84,87,84,26,58,46,43,24,97,70,179,54,26,156,47,48,40,81,116,5,81,20,13,37,66,69,55,45,160,25,28,40,156,138,24,70,62,86,174,48,48,25,54,38,46,64,133,36,132,51,48,62,48,39,103,83,84,39,122,154,36,5,30,57,54,34,85,139,35,31,48,94,27,28,41,42,150,162,82,45,56,41,23,112,38,160,32,47,82,25,51,22,30,121,53,84,24,81,152,131,327,49,65,29,207,114,49,108,36,32,50,80,141,23,40,25,22,155,72,203,278,115,27,139,46,115,155,35,82,7,36,73,24,49,48,155,93,99,155,48,42,24,30,44,24,34,144,179,52,82,39,80,35,82,41,27,32,33,41,5,126,153,141,124,38,63,47,22,115,71,34,72,134,26,38,25,27,159,107,13,25,65,33,23,53,104,149,144,51,114,131,174,42,153,37,61,74,93,141,85,78,33,90,147,33,32,5,149,22,132,154,31,51,18,172,76,78,112,58,158,60,154,34,26,31,26,64,179,56,148,90,110,458,36,28,33,51,45,37,39,96,15,29,32,152,29,36,54,29,47,172,32,22,91,53,24,121,36,212,25,59,155,37,79,24,50,75,41,8,36,31,73,127,14,97,73,92,63,58,46,26,143,29,31,156,37,63,33,104,58,62,184,611,61,62,64,47,92,22,338,86,159,30,105,148,30,52,152,43,35,47,25,127,25,143,128,24,43,99,152,37,32,3,28,55,28,121,29,115,39,154,148,44,156,25,41,83,45,73,158,47,159,165,37,41,136,24,35,25,31,36,132,156,30,118,82,147,75,22,90,61,28,42,75,27,14,129,73,88,27,75,11,23,25,81,51,40,156,124,18,6,126,46,30,35,32,23,42,99,96,74,72,76,60,5,31,77,33,25,126,71,75,68,144,59,60,49,66,24,58,107,53,73,149,144,63,159,39,67,131,24,136,34,27,55,27,39,36,23,51,34,34,74,146,32,160,86,32,166,22,26,92,37,46,62,39,50,35,21,107,38,205,158,67,121,26,68,123,61,33,156,41,50,41,153,22,53,62,159,34,151,26,27,52,100,164,39,32,158,120,42,46,44,123,24,29,34,29,47,47,115,37,64,83,124,24,89,67,44,33,28,37,76,150,45,84,24,119,332,80,24,34,65,27,24,53,28,22,23,191,75,23,29,37,40,93,107,52,71,54,51,98,89,50,163,135,32,41,58,50,790,34,35,100,46,183,71,30,34,75,55,33,97,33,64,23,32,128,45,62,85,32,89,63,28,41,110,53,31,27,79,22,40,59,54,84,15,106,30,108,92,87,16,51,50,63,34,160,29,41,68,91,2,66,135,30,35,35,25,23,32,76,45,106,55,124,46,120,72,57,54,49,51,29,37,67,41,92,30,68,46,87,95,23,34,59,158,73,76,65,58,14,27,143,53,52,31,39,83,34,22,89,61,150,123,24,32,22,49,108,119,34,38,26,32,31,117,45,55,38,80,54,62,52,81,36,431,62,375,160,52,138,42,63,22,38,50,83,84,39,76,53,94,38,38,75,62,59,23,37,45,51,24,43,123,43,36,46,35,59,32,50,27,40,37,84,125,45,32,52,39,32,52,40,96,31,276,51,26,36,99,44,23,63,60,41,133,27,42,40,17,81,38,48,35,13,363,40,47,154,31,11,44,88,47,64,24,95,134,23,32,175,38,35,147,51,107,38,60,37,157,185,28,159,79,40,113,30,42,41,113,382,87,49,27,28,26,49,39,38,31,162,25,154,22,34,45,70,77,32,50,30,114,588,114,114,50,141,158,56,29,39,32,37,63,29,48,59,29,24,31,37,193,45,154,3,32,131,52,142,104,43,73,105,54,108,77,42,132,42,22,30,38,54,56,66,65,93,132,112,22,68,119,58,60,54,45,66,67,77,76,77,175,77,102,39,32,30,108,141,130,58,28,77,136,88,127,110,51,30,25,96,64,23,70,31,113,110,36,28,23,45,54,39,154,36,64,36,71,51,17,22,26,144,63,22,89,42,28,135,78,33,27,52,29,33,23,85,101,110,27,58,44,26,91,125,25,69,72,48,28,66,127,62,26,78,23,85,34,41,134,25,30,45,5,23,93,7,24,129,45,65,48,18,24,33,25,51,96,69,25,108,51,65,141,7,41,67,30,37,47,36,29,36,281,27,52,66,121,56,92,66,43,127,43,450,102,88,103,24,95,74,158,482,53,121,31,22,22,38,22,91,66,191,27,67,104,96,38,40,25,24,26,39,54,73,80,21,53,444,41,99,34,27,116,24,75,47,81,115,52,83,41,22,46,57,45,67,26,100,53,632,235,26,114,45,78,51,82,28,85,46,183,22,109,28,25,23,74,50,28,44,88,25,29,39,46,64,15,126,105,49,30,23,84,67,14,68,37,26,84,29,22,201,137,33,101,45,124,84,42,78,70,121,81,42,245,66,139,167,51,55,31,36,28,306,202,160,36,20,6,5,150,74,19,153,45,54,22,22,67,42,179,22,82,22,163,46,158,32,71,34,104,9,95,29,155,24,41,106,32,112,47,28,30,289,80,70,122,59,58,21,27,35,31,66,65,95,32,23,36,55,140,144,30,28,83,40,32,61,116,36,36,37,54,46,65,37,39,44,82,23,155,153,44,117,55,126,109,65,16,50,46,4,35,99,57,136,56,62,25,38,46,32,49,243,42,41,51,81,9,136,9,25,27,45,115,65,139,28,30,53,59,44,26,85,23,27,47,49,126,32,22,107,46,96,157,50,63,29,87,27,33,33,27,26,5,33,34,29,30,140,34,117,45,27,153,41,136,56,64,50,444,27,106,66,54,88,4,54,56,27,95,95,52,80,63,73,169,169,57,56,113,50,23,24,179,101,54,96,59,166,14,46,9,46,84,71,20,44,46,35,28,53,82,26,48,29,41,99,55,22,15,119,154,25,29,29,28,89,56,53,37,26,129,69,21,89,37,39,102,42,63,50,163,200,41,38,26,29,16,23,46,31,28,118,29,63,106,121,44,22,22,116,78,59,43,124,45,142,32,69,79,149,63,155,29,145,22,32,10,61,57,36,52,163,133,55,57,68,123,111,37,74,47,9,149,44,23,26,35,29,131,28,23,52,53,131,11,27,88,166,42,32,588,74,39,26,57,54,94,276,82,160,151,60,51,138,104,75,29,142,40,166,130,15,31,52,234,50,103,25,49,47,27,77,28,34,22,95,22,54,67,73,56,32,25,66,43,121,55,126,27,141,111,125,6,142,46,32,89,64,77,47,42,29,37,86,47,33,23,67,32,31,25,11,129,33,30,183,156,47,32,137,101,59,43,95,142,38,327,29,36,87,35,62,32,24,112,57,26,110,147,32,151,44,30,94,28,164,38,46,23,269,65,24,42,45,54,26,60,141,153,35,32,143,60,96,30,126,41,30,157,71,112,43,14,49,47,42,26,23,30,108,119,37,75,46,51,461,127,44,34,72,30,27,48,90,52,47,22,41,37,173,95,69,27,47,93,32,48,63,75,295,39,120,43,169,101,32,150,40,85,2,135,49,32,29,24,74,242,40,66,25,26,27,23,38,34,55,46,22,42,35,53,112,39,38,129,67,147,61,38,82,15,153,42,155,50,52,54,49,67,139,110,37,40,25,113,28,48,58,66,26,297,148,149,154,36,35,31,70,33,35,23,76,24,41,48,59,53,19,51,122,53,22,155,25,39,119,104,45,18,19,30,91,156,45,42,36,113,141,38,43,29,61,5,33,41,60,44,32,87,66,148,56,148,55,35,31,38,59,27,55,30,33,92,59,160,130,112,52,65,59,23,41,137,35,69,68,68,49,96,46,47,50,28,110,97,46,90,13,41,65,134,145,131,33,14,105,42,40,47,80,72,150,33,33,32,281,44,102,34,73,149,20,22,92,86,28,40,90,47,66,63,147,47,151,37,41,32,24,29,50,35,38,41,118,57,115,51,82,29,23,72,72,33,111,34,86,121,61,14,120,78,50,27,444,79,84,62,33,68,107,37,132,69,85,38,114,151,80,80,158,35,165,42,153,320,93,148,50,72,55,158,54,113,70,77,72,33,32,91,22,148,145,126,28,52,36,126,47,27,41,129,83,41,28,34,39,54,90,35,34,91,52,45,54,77,22,22,368,28,82,55,68,29,115,67,96,25,104,44,18,47,22,31,39,40,69,79,117,38,65,23,3,151,58,24,31,33,54,60,9,71,28,41,29,34,31,11,129,11,28,47,59,31,143,44,65,22,84,160,120,131,40,52,34,23,29,48,38,31,86,34,58,193,34,124,152,65,105,51,29,25,78,30,135,44,91,142,49,54,19,34,107,24,274,118,158,28,127,52,131,155,73,8,57,106,56,49,27,176,92,31,38,156,66,180,63,59,25,24,149,165,63,32,29,35,22,105,3,126,31,75,121,75,95,114,26,48,25,38,7,36,189,125,55,38,29,46,62,32,194,287,37,42,70,77,115,15,49,53,92,33,87,36,134,22,26,24,97,153,139,45,69,40,30,40,84,25,140,73,85,69,23,25,24,30,28,43,39,83,73,47,322,59,42,31,30,36,29,59,154,47,87,126,128,12,53,41,176,99,72,123,69,39,17,22,48,38,30,38,25,28,46,72,41,31,59,28,30,131,55,32,138,125,13,81,155,74,34,84,190,42,37,38,87,43,73,65,36,38,27,21,73,191,104,34,31,154,98,107,27,59,57,136,56,77,44,46,53,32,31,55,40,51,39,43,35,133,160,48,37,169,135,33,52,29,29,103,55,24,54,43,23,51,40,155,83,26,38,82,38,26,25,24,58,46,90,128,70,30,44,69,42,21,158,127,39,47,65,36,36,37,31,18,86,159,92,39,28,66,35,37,38,34,34,30,45,137,24,51,293,28,37,33,33,49,263,50,26,39,58,62,70,50,38,62,152,158,45,22,26,47,48,48,67,30,110,34,65,23,35,22,96,75,81,37,71,21,126,25,302,23,198,32,30,39,98,14,27,37,157,54,39,33,45,144,180,169,61,39,41,74,204,88,74,37,39,35,43,42,37,30,82,32,28,55,67,244,24,159,159,70,57,139,40,86,116,3,53,42,54,33,30,70,94,62,72,142,85,66,32,55,58,16,71,38,44,77,148,32,85,22,38,32,198,104,44,42,61,43,46,76,61,76,46,61,22,50,44,257,159,58,33,96,29,63,53,34,33,65,30,19,36,40,63,4,50,28,57,32,38,86,37,116,77,17,156,38,13,88,64,205,114,78,121,25,46,28,126,46,23,84,72,30,22,48,24,46,86,158,31,25,35,106,48,60,97,36,71,83,153,38,82,94,52,84,33,42,24,54,23,45,37,28,44,73,202,140,13,29,53,132,35,96,73,55,60,83,111,40,141,104,133,26,53,70,67,22,63,33,74,60,144,220,55,127,27,162,112,30,3,61,39,103,48,34,37,89,31,22,36,23,45,42,40,28,84,52,78,54,23,93,24,51,22,23,65,21,29,66,32,34,153,23,32,69,180,255,31,59,138,67,37,122,29,97,76,84,56,36,84,128,96,35,46,276,25,46,153,74,27,63,147,154,70,163,24,85,49,26,48,35,24,49,48,80,39,29,32,75,25,60,154,230,27,94,87,116,126,28,160,60,153,55,22,42,36,34,77,147,55,54,34,22,111,160,89,153,67,48,57,161,139,158,90,29,22,38,92,84,74,40,63,134,35,35,54,27,111,157,124,22,77,37,71,74,28,34,35,67,41,33,83,38,61,32,62,79,22,158,37,23,43,108,23,81,154,85,54,22,34,69,74,102,22,32,77,26,29,52,60,44,77,263,65,31,73,115,131,31,24,71,23,79,24,97,71,38,44,88,155,36,7,71,27,49,46,23,183,118,92,38,87,29,154,45,24,69,141,114,132,85,75,32,37,122,19,106,67,51,40,40,28,152,17,138,60,28,142,139,80,34,290,25,5,63,153,104,82,74,15,77,37,129,54,63,66,329,40,86,82,24,111,156,36,35,112,72,61,27,30,46,32,43,154,55,27,35,39,70,115,68,29,27,34,66,21,139,150,49,19,40,113,44,51,156,33,157,32,46,142,36,117,94,52,180,39,87,47,70,121,14,142,23,64,25,45,36,101,38,142,51,163,146,27,41,25,151,85,30,60,74,61,22,408,56,31,45,138,22,38,53,93,283,36,60,36,154,103,65,149,200,26,124,31,65,39,83,42,35,23,41,72,66,43,46,116,56,55,166,29,96,36,49,61,39,141,30,30,31,73,25,29,381,69,26,36,278,68,50,89,237,236,95,85,44,99,23,145,26,160,97,39,24,33,76,49,15,22,51,28,69,159,44,24,20,126,41,40,162,171,28,62,71,109,135,2,17,21,25,23,74,26,149,24,30,62,132,43,42,58,125,94,104,94,39,26,60,22,158,58,120,47,110,205,73,31,29,152,42,48,137,105,155,45,35,78,159,126,49,73,166,50,142,120,54,153,23,52,90,23,24,156,25,73,34,158,208,56,112,35,34,30,24,46,34,142,75,95,77,79,229,44,117,70,53,106,30,86,38,67,39,97,30,73,35,72,134,106,35,22,31,19,54,29,101,22,89,75,34,27,34,37,172,52,24,54,56,41,89,34,43,43,43,26,55,66,55,49,7,27,28,33,157,38,159,139,22,48,32,80,26,106,51,56,13,33,30,31,35,24,26,49,70,59,64,109,25,24,36,55,36,66,25,37,44,160,63,33,17,40,43,10,51,154,113,147,50,64,26,9,22,10,124,32,24,95,35,59,73,88,77,64,76,55,26,112,77,53,102,79,42,59,32,70,70,124,21,77,25,36,75,36,48,175,237,23,105,62,37,52,22,42,79,133,91,99,62,34,40,157,133,56,93,31,26,83,76,22,42,120,62,24,158,46,61,156,53,73,87,74,58,80,32,147,51,45,29,157,56,68,22,22,84,43,62,46,47,151,240,45,30,114,32,43,110,201,151,86,46,41,84,29,98,86,15,37,42,7,111,42,29,68,62,69,145,38,46,29,121,33,42,89,74,71,45,37,33,54,69,43,81,53,76,22,27,109,12,44,58,5,121,80,22,58,40,299,39,92,158,82,35,66,27,32,85,126,75,92,27,35,145,113,31,22,166,276,171,76,158,22,24,44,51,44,47,44,36,415,32,22,40,24,160,80,27,237,134,33,80,45,48,148,156,38,49,38,48,22,98,149,37,22,33,83,24,38,129,85,46,87,106,95,86,107,40,33,146,136,100,64,73,146,39,32,65,41,152,9,34,66,133,125,132,44,42,142,62,54,54,56,90,111,22,22,57,24,38,32,70,25,96,97,27,9,42,61,51,28,22,26,78,51,42,247,81,15,28,28,78,60,59,59,146,73,47,152,31,66,19,57,100,22,44,67,84,48,43,69,27,72,28,133,98,70,41,111,97,89,31,89,143,43,46,111,27,175,42,138,50,30,49,91,36,30,63,119,26,82,23,53,66,62,74,93,29,43,119,256,51,21,51,85,94,22,31,24,46,65,32,120,36,71,70,166,32,41,98,450,150,47,57,154,33,27,91,39,53,88,28,43,32,73,30,154,107,101,31,49,281,37,70,114,116,47,27,87,88,228,102,133,88,36,77,104,87,28,130,79,184,53,31,85,77,23,76,28,30,75,36,23,33,99,24,67,24,85,28,46,4,55,93,70,86,101,157,49,25,35,48,43,27,18,4,22,69,37,39,134,85,116,42,40,23,61,43,109,30,329,91,31,29,22,40,29,38,41,51,35,89,51,40,112,141,45,71,35,29,143,48,21,98,136,32,43,48,25,19,133,66,58,119,53,38,45,99,77,55,23,21,33,46,23,82,127,74,23,65,278,26,152,45,3,51,45,152,42,101,29,63,168,125,35,38,49,31,24,40,113,119,50,23,47,38,51,32,125,36,55,23,35,87,71,94,99,51,23,162,82,32,146,121,40,27,28,97,159,28,36,64,30,26,189,160,26,29,24,29,47,72,37,125,52,192,126,39,25,35,33,38,77,38,17,130,133,40,11,45,67,40,84,100,145,30,2,125,133,56,42,70,50,135,46,38,46,44,212,51,116,80,48,64,88,161,147,24,101,40,36,26,23,59,104,41,50,40,29,49,45,163,86,129,40,69,28,34,162,23,39,82,36,80,81,10,90,112,40,72,82,37,40,39,22,84,40,45,32,97,102,34,22,51,59,33,26,28,36,44,45,90,99,70,68,104,37,51,23,251,40,38,44,101,27,22,120,51,17,49,89,7,26,3,79,35,122,54,74,50,25,61,35,31,79,169,135,33,23,43,23,65,65,155,118,58,34,45,155,36,82,40,127,149,38,58,61,24,39,25,69,33,245,139,166,122,56,32,35,35,23,103,68,49,25,64,60,40,113,28,329,54,158,26,21,40,38,154,45,42,34,87,43,51,91,27,98,153,63,273,22,66,33,70,96,19,67,12,37,57,125,26],\"xaxis\":\"x2\",\"yaxis\":\"y2\",\"type\":\"box\"},{\"alignmentgroup\":\"True\",\"bingroup\":\"x\",\"hovertemplate\":\"Category=spam\\u003cbr\\u003eLength=%{x}\\u003cbr\\u003ecount=%{y}\\u003cextra\\u003e\\u003c\\u002fextra\\u003e\",\"legendgroup\":\"spam\",\"marker\":{\"color\":\"#EF553B\",\"pattern\":{\"shape\":\"\"}},\"name\":\"spam\",\"offsetgroup\":\"spam\",\"orientation\":\"v\",\"showlegend\":true,\"x\":[155,148,158,154,136,156,149,156,159,172,120,161,153,161,80,139,125,159,153,144,157,156,126,162,155,159,124,146,152,155,157,149,72,143,137,157,145,150,154,121,159,133,155,159,146,138,134,157,128,159,111,150,148,165,129,157,149,155,158,49,107,159,162,137,157,164,175,161,159,146,160,170,148,146,89,145,160,111,146,96,160,69,100,149,127,142,148,86,135,140,130,150,143,136,97,59,42,154,158,111,155,160,37,163,147,101,149,132,102,65,96,161,151,99,129,158,160,154,162,143,150,133,156,161,147,152,149,155,162,153,160,144,161,149,134,154,158,137,132,143,127,125,162,155,140,159,149,132,137,41,157,141,149,150,158,156,101,104,135,153,143,134,157,90,153,147,142,159,70,156,153,156,105,120,158,115,140,155,159,155,49,147,148,50,143,146,159,123,81,120,147,66,163,155,140,126,155,101,151,154,159,143,163,143,152,71,141,142,159,154,81,153,159,161,130,154,122,121,157,159,150,156,145,149,136,146,144,153,132,71,147,161,91,160,123,148,160,158,73,174,114,126,148,145,138,224,159,155,143,162,33,154,164,154,132,156,151,161,158,154,117,84,155,132,155,153,163,156,143,158,145,142,160,162,156,74,133,104,153,129,143,120,158,155,152,159,162,149,161,30,156,161,144,159,155,159,161,160,170,137,154,161,147,158,152,159,161,156,157,181,160,157,155,160,122,33,159,48,183,160,147,162,151,158,114,167,160,120,82,149,162,158,158,109,161,152,158,152,158,152,122,161,116,168,150,158,100,101,156,70,160,153,134,131,153,137,156,173,109,154,147,130,165,163,130,136,158,153,158,25,156,160,118,135,154,166,158,155,141,124,124,131,33,158,160,137,152,158,160,111,157,151,52,152,140,154,163,139,137,148,48,100,120,147,135,159,107,147,122,134,111,164,110,152,153,141,147,121,140,112,143,139,156,144,145,160,152,101,114,159,153,148,159,157,136,142,157,173,50,139,105,157,134,40,146,140,78,150,160,81,127,153,157,136,157,153,64,160,158,161,106,139,153,153,101,157,148,140,161,156,150,157,152,162,157,68,133,134,145,149,143,155,157,115,166,157,152,128,156,150,179,159,114,197,156,13,147,101,109,158,137,159,86,155,156,158,159,120,162,162,152,139,109,107,96,151,151,153,121,128,145,86,158,102,114,138,135,146,160,18,63,137,95,143,159,161,149,73,159,159,149,47,156,156,159,149,141,106,114,154,148,135,167,132,122,141,157,152,146,160,161,144,154,112,157,144,149,158,155,148,157,72,157,160,135,105,74,157,152,136,163,158,74,155,81,138,162,134,161,145,163,126,135,133,146,144,156,72,132,83,137,161,151,47,65,125,158,73,51,161,163,160,143,156,148,115,159,152,127,158,159,156,144,108,139,166,143,155,158,136,152,160,155,132,153,143,154,106,160,155,144,139,89,147,136,158,153,69,152,153,135,136,159,95,137,147,150,132,146,134,181,155,153,159,124,120,137,140,153,160,137,138,177,169,156,154,146,133,126,149,135,109,159,145,132,160,137,132,158,149,153,47,159,156,44,164,162,156,160,119,142,156,150,151,164,160,136,146,159,155,127,145,144,156,155,157,157,156,112,106,157,156,139,90,160,42,106,163,70,112,157,147,85,156,143,149,145,161,158,148,153,134,90,160,160,147,161],\"xaxis\":\"x\",\"yaxis\":\"y\",\"type\":\"histogram\"},{\"alignmentgroup\":\"True\",\"boxpoints\":\"all\",\"fillcolor\":\"rgba(255,255,255,0)\",\"hoveron\":\"points\",\"hovertemplate\":\"Category=spam\\u003cbr\\u003eLength=%{x}\\u003cextra\\u003e\\u003c\\u002fextra\\u003e\",\"jitter\":0,\"legendgroup\":\"spam\",\"line\":{\"color\":\"rgba(255,255,255,0)\"},\"marker\":{\"color\":\"#EF553B\",\"symbol\":\"line-ns-open\"},\"name\":\"spam\",\"offsetgroup\":\"spam\",\"showlegend\":false,\"x\":[155,148,158,154,136,156,149,156,159,172,120,161,153,161,80,139,125,159,153,144,157,156,126,162,155,159,124,146,152,155,157,149,72,143,137,157,145,150,154,121,159,133,155,159,146,138,134,157,128,159,111,150,148,165,129,157,149,155,158,49,107,159,162,137,157,164,175,161,159,146,160,170,148,146,89,145,160,111,146,96,160,69,100,149,127,142,148,86,135,140,130,150,143,136,97,59,42,154,158,111,155,160,37,163,147,101,149,132,102,65,96,161,151,99,129,158,160,154,162,143,150,133,156,161,147,152,149,155,162,153,160,144,161,149,134,154,158,137,132,143,127,125,162,155,140,159,149,132,137,41,157,141,149,150,158,156,101,104,135,153,143,134,157,90,153,147,142,159,70,156,153,156,105,120,158,115,140,155,159,155,49,147,148,50,143,146,159,123,81,120,147,66,163,155,140,126,155,101,151,154,159,143,163,143,152,71,141,142,159,154,81,153,159,161,130,154,122,121,157,159,150,156,145,149,136,146,144,153,132,71,147,161,91,160,123,148,160,158,73,174,114,126,148,145,138,224,159,155,143,162,33,154,164,154,132,156,151,161,158,154,117,84,155,132,155,153,163,156,143,158,145,142,160,162,156,74,133,104,153,129,143,120,158,155,152,159,162,149,161,30,156,161,144,159,155,159,161,160,170,137,154,161,147,158,152,159,161,156,157,181,160,157,155,160,122,33,159,48,183,160,147,162,151,158,114,167,160,120,82,149,162,158,158,109,161,152,158,152,158,152,122,161,116,168,150,158,100,101,156,70,160,153,134,131,153,137,156,173,109,154,147,130,165,163,130,136,158,153,158,25,156,160,118,135,154,166,158,155,141,124,124,131,33,158,160,137,152,158,160,111,157,151,52,152,140,154,163,139,137,148,48,100,120,147,135,159,107,147,122,134,111,164,110,152,153,141,147,121,140,112,143,139,156,144,145,160,152,101,114,159,153,148,159,157,136,142,157,173,50,139,105,157,134,40,146,140,78,150,160,81,127,153,157,136,157,153,64,160,158,161,106,139,153,153,101,157,148,140,161,156,150,157,152,162,157,68,133,134,145,149,143,155,157,115,166,157,152,128,156,150,179,159,114,197,156,13,147,101,109,158,137,159,86,155,156,158,159,120,162,162,152,139,109,107,96,151,151,153,121,128,145,86,158,102,114,138,135,146,160,18,63,137,95,143,159,161,149,73,159,159,149,47,156,156,159,149,141,106,114,154,148,135,167,132,122,141,157,152,146,160,161,144,154,112,157,144,149,158,155,148,157,72,157,160,135,105,74,157,152,136,163,158,74,155,81,138,162,134,161,145,163,126,135,133,146,144,156,72,132,83,137,161,151,47,65,125,158,73,51,161,163,160,143,156,148,115,159,152,127,158,159,156,144,108,139,166,143,155,158,136,152,160,155,132,153,143,154,106,160,155,144,139,89,147,136,158,153,69,152,153,135,136,159,95,137,147,150,132,146,134,181,155,153,159,124,120,137,140,153,160,137,138,177,169,156,154,146,133,126,149,135,109,159,145,132,160,137,132,158,149,153,47,159,156,44,164,162,156,160,119,142,156,150,151,164,160,136,146,159,155,127,145,144,156,155,157,157,156,112,106,157,156,139,90,160,42,106,163,70,112,157,147,85,156,143,149,145,161,158,148,153,134,90,160,160,147,161],\"xaxis\":\"x2\",\"yaxis\":\"y2\",\"type\":\"box\"}],                        {\"template\":{\"data\":{\"histogram2dcontour\":[{\"type\":\"histogram2dcontour\",\"colorbar\":{\"outlinewidth\":0,\"ticks\":\"\"},\"colorscale\":[[0.0,\"#0d0887\"],[0.1111111111111111,\"#46039f\"],[0.2222222222222222,\"#7201a8\"],[0.3333333333333333,\"#9c179e\"],[0.4444444444444444,\"#bd3786\"],[0.5555555555555556,\"#d8576b\"],[0.6666666666666666,\"#ed7953\"],[0.7777777777777778,\"#fb9f3a\"],[0.8888888888888888,\"#fdca26\"],[1.0,\"#f0f921\"]]}],\"choropleth\":[{\"type\":\"choropleth\",\"colorbar\":{\"outlinewidth\":0,\"ticks\":\"\"}}],\"histogram2d\":[{\"type\":\"histogram2d\",\"colorbar\":{\"outlinewidth\":0,\"ticks\":\"\"},\"colorscale\":[[0.0,\"#0d0887\"],[0.1111111111111111,\"#46039f\"],[0.2222222222222222,\"#7201a8\"],[0.3333333333333333,\"#9c179e\"],[0.4444444444444444,\"#bd3786\"],[0.5555555555555556,\"#d8576b\"],[0.6666666666666666,\"#ed7953\"],[0.7777777777777778,\"#fb9f3a\"],[0.8888888888888888,\"#fdca26\"],[1.0,\"#f0f921\"]]}],\"heatmap\":[{\"type\":\"heatmap\",\"colorbar\":{\"outlinewidth\":0,\"ticks\":\"\"},\"colorscale\":[[0.0,\"#0d0887\"],[0.1111111111111111,\"#46039f\"],[0.2222222222222222,\"#7201a8\"],[0.3333333333333333,\"#9c179e\"],[0.4444444444444444,\"#bd3786\"],[0.5555555555555556,\"#d8576b\"],[0.6666666666666666,\"#ed7953\"],[0.7777777777777778,\"#fb9f3a\"],[0.8888888888888888,\"#fdca26\"],[1.0,\"#f0f921\"]]}],\"heatmapgl\":[{\"type\":\"heatmapgl\",\"colorbar\":{\"outlinewidth\":0,\"ticks\":\"\"},\"colorscale\":[[0.0,\"#0d0887\"],[0.1111111111111111,\"#46039f\"],[0.2222222222222222,\"#7201a8\"],[0.3333333333333333,\"#9c179e\"],[0.4444444444444444,\"#bd3786\"],[0.5555555555555556,\"#d8576b\"],[0.6666666666666666,\"#ed7953\"],[0.7777777777777778,\"#fb9f3a\"],[0.8888888888888888,\"#fdca26\"],[1.0,\"#f0f921\"]]}],\"contourcarpet\":[{\"type\":\"contourcarpet\",\"colorbar\":{\"outlinewidth\":0,\"ticks\":\"\"}}],\"contour\":[{\"type\":\"contour\",\"colorbar\":{\"outlinewidth\":0,\"ticks\":\"\"},\"colorscale\":[[0.0,\"#0d0887\"],[0.1111111111111111,\"#46039f\"],[0.2222222222222222,\"#7201a8\"],[0.3333333333333333,\"#9c179e\"],[0.4444444444444444,\"#bd3786\"],[0.5555555555555556,\"#d8576b\"],[0.6666666666666666,\"#ed7953\"],[0.7777777777777778,\"#fb9f3a\"],[0.8888888888888888,\"#fdca26\"],[1.0,\"#f0f921\"]]}],\"surface\":[{\"type\":\"surface\",\"colorbar\":{\"outlinewidth\":0,\"ticks\":\"\"},\"colorscale\":[[0.0,\"#0d0887\"],[0.1111111111111111,\"#46039f\"],[0.2222222222222222,\"#7201a8\"],[0.3333333333333333,\"#9c179e\"],[0.4444444444444444,\"#bd3786\"],[0.5555555555555556,\"#d8576b\"],[0.6666666666666666,\"#ed7953\"],[0.7777777777777778,\"#fb9f3a\"],[0.8888888888888888,\"#fdca26\"],[1.0,\"#f0f921\"]]}],\"mesh3d\":[{\"type\":\"mesh3d\",\"colorbar\":{\"outlinewidth\":0,\"ticks\":\"\"}}],\"scatter\":[{\"fillpattern\":{\"fillmode\":\"overlay\",\"size\":10,\"solidity\":0.2},\"type\":\"scatter\"}],\"parcoords\":[{\"type\":\"parcoords\",\"line\":{\"colorbar\":{\"outlinewidth\":0,\"ticks\":\"\"}}}],\"scatterpolargl\":[{\"type\":\"scatterpolargl\",\"marker\":{\"colorbar\":{\"outlinewidth\":0,\"ticks\":\"\"}}}],\"bar\":[{\"error_x\":{\"color\":\"#2a3f5f\"},\"error_y\":{\"color\":\"#2a3f5f\"},\"marker\":{\"line\":{\"color\":\"#E5ECF6\",\"width\":0.5},\"pattern\":{\"fillmode\":\"overlay\",\"size\":10,\"solidity\":0.2}},\"type\":\"bar\"}],\"scattergeo\":[{\"type\":\"scattergeo\",\"marker\":{\"colorbar\":{\"outlinewidth\":0,\"ticks\":\"\"}}}],\"scatterpolar\":[{\"type\":\"scatterpolar\",\"marker\":{\"colorbar\":{\"outlinewidth\":0,\"ticks\":\"\"}}}],\"histogram\":[{\"marker\":{\"pattern\":{\"fillmode\":\"overlay\",\"size\":10,\"solidity\":0.2}},\"type\":\"histogram\"}],\"scattergl\":[{\"type\":\"scattergl\",\"marker\":{\"colorbar\":{\"outlinewidth\":0,\"ticks\":\"\"}}}],\"scatter3d\":[{\"type\":\"scatter3d\",\"line\":{\"colorbar\":{\"outlinewidth\":0,\"ticks\":\"\"}},\"marker\":{\"colorbar\":{\"outlinewidth\":0,\"ticks\":\"\"}}}],\"scattermapbox\":[{\"type\":\"scattermapbox\",\"marker\":{\"colorbar\":{\"outlinewidth\":0,\"ticks\":\"\"}}}],\"scatterternary\":[{\"type\":\"scatterternary\",\"marker\":{\"colorbar\":{\"outlinewidth\":0,\"ticks\":\"\"}}}],\"scattercarpet\":[{\"type\":\"scattercarpet\",\"marker\":{\"colorbar\":{\"outlinewidth\":0,\"ticks\":\"\"}}}],\"carpet\":[{\"aaxis\":{\"endlinecolor\":\"#2a3f5f\",\"gridcolor\":\"white\",\"linecolor\":\"white\",\"minorgridcolor\":\"white\",\"startlinecolor\":\"#2a3f5f\"},\"baxis\":{\"endlinecolor\":\"#2a3f5f\",\"gridcolor\":\"white\",\"linecolor\":\"white\",\"minorgridcolor\":\"white\",\"startlinecolor\":\"#2a3f5f\"},\"type\":\"carpet\"}],\"table\":[{\"cells\":{\"fill\":{\"color\":\"#EBF0F8\"},\"line\":{\"color\":\"white\"}},\"header\":{\"fill\":{\"color\":\"#C8D4E3\"},\"line\":{\"color\":\"white\"}},\"type\":\"table\"}],\"barpolar\":[{\"marker\":{\"line\":{\"color\":\"#E5ECF6\",\"width\":0.5},\"pattern\":{\"fillmode\":\"overlay\",\"size\":10,\"solidity\":0.2}},\"type\":\"barpolar\"}],\"pie\":[{\"automargin\":true,\"type\":\"pie\"}]},\"layout\":{\"autotypenumbers\":\"strict\",\"colorway\":[\"#636efa\",\"#EF553B\",\"#00cc96\",\"#ab63fa\",\"#FFA15A\",\"#19d3f3\",\"#FF6692\",\"#B6E880\",\"#FF97FF\",\"#FECB52\"],\"font\":{\"color\":\"#2a3f5f\"},\"hovermode\":\"closest\",\"hoverlabel\":{\"align\":\"left\"},\"paper_bgcolor\":\"white\",\"plot_bgcolor\":\"#E5ECF6\",\"polar\":{\"bgcolor\":\"#E5ECF6\",\"angularaxis\":{\"gridcolor\":\"white\",\"linecolor\":\"white\",\"ticks\":\"\"},\"radialaxis\":{\"gridcolor\":\"white\",\"linecolor\":\"white\",\"ticks\":\"\"}},\"ternary\":{\"bgcolor\":\"#E5ECF6\",\"aaxis\":{\"gridcolor\":\"white\",\"linecolor\":\"white\",\"ticks\":\"\"},\"baxis\":{\"gridcolor\":\"white\",\"linecolor\":\"white\",\"ticks\":\"\"},\"caxis\":{\"gridcolor\":\"white\",\"linecolor\":\"white\",\"ticks\":\"\"}},\"coloraxis\":{\"colorbar\":{\"outlinewidth\":0,\"ticks\":\"\"}},\"colorscale\":{\"sequential\":[[0.0,\"#0d0887\"],[0.1111111111111111,\"#46039f\"],[0.2222222222222222,\"#7201a8\"],[0.3333333333333333,\"#9c179e\"],[0.4444444444444444,\"#bd3786\"],[0.5555555555555556,\"#d8576b\"],[0.6666666666666666,\"#ed7953\"],[0.7777777777777778,\"#fb9f3a\"],[0.8888888888888888,\"#fdca26\"],[1.0,\"#f0f921\"]],\"sequentialminus\":[[0.0,\"#0d0887\"],[0.1111111111111111,\"#46039f\"],[0.2222222222222222,\"#7201a8\"],[0.3333333333333333,\"#9c179e\"],[0.4444444444444444,\"#bd3786\"],[0.5555555555555556,\"#d8576b\"],[0.6666666666666666,\"#ed7953\"],[0.7777777777777778,\"#fb9f3a\"],[0.8888888888888888,\"#fdca26\"],[1.0,\"#f0f921\"]],\"diverging\":[[0,\"#8e0152\"],[0.1,\"#c51b7d\"],[0.2,\"#de77ae\"],[0.3,\"#f1b6da\"],[0.4,\"#fde0ef\"],[0.5,\"#f7f7f7\"],[0.6,\"#e6f5d0\"],[0.7,\"#b8e186\"],[0.8,\"#7fbc41\"],[0.9,\"#4d9221\"],[1,\"#276419\"]]},\"xaxis\":{\"gridcolor\":\"white\",\"linecolor\":\"white\",\"ticks\":\"\",\"title\":{\"standoff\":15},\"zerolinecolor\":\"white\",\"automargin\":true,\"zerolinewidth\":2},\"yaxis\":{\"gridcolor\":\"white\",\"linecolor\":\"white\",\"ticks\":\"\",\"title\":{\"standoff\":15},\"zerolinecolor\":\"white\",\"automargin\":true,\"zerolinewidth\":2},\"scene\":{\"xaxis\":{\"backgroundcolor\":\"#E5ECF6\",\"gridcolor\":\"white\",\"linecolor\":\"white\",\"showbackground\":true,\"ticks\":\"\",\"zerolinecolor\":\"white\",\"gridwidth\":2},\"yaxis\":{\"backgroundcolor\":\"#E5ECF6\",\"gridcolor\":\"white\",\"linecolor\":\"white\",\"showbackground\":true,\"ticks\":\"\",\"zerolinecolor\":\"white\",\"gridwidth\":2},\"zaxis\":{\"backgroundcolor\":\"#E5ECF6\",\"gridcolor\":\"white\",\"linecolor\":\"white\",\"showbackground\":true,\"ticks\":\"\",\"zerolinecolor\":\"white\",\"gridwidth\":2}},\"shapedefaults\":{\"line\":{\"color\":\"#2a3f5f\"}},\"annotationdefaults\":{\"arrowcolor\":\"#2a3f5f\",\"arrowhead\":0,\"arrowwidth\":1},\"geo\":{\"bgcolor\":\"white\",\"landcolor\":\"#E5ECF6\",\"subunitcolor\":\"white\",\"showland\":true,\"showlakes\":true,\"lakecolor\":\"white\"},\"title\":{\"x\":0.05},\"mapbox\":{\"style\":\"light\"}}},\"xaxis\":{\"anchor\":\"y\",\"domain\":[0.0,1.0],\"title\":{\"text\":\"Length\"}},\"yaxis\":{\"anchor\":\"x\",\"domain\":[0.0,0.7326],\"title\":{\"text\":\"Frequency\"}},\"xaxis2\":{\"anchor\":\"y2\",\"domain\":[0.0,1.0],\"matches\":\"x\",\"showticklabels\":false,\"showgrid\":true},\"yaxis2\":{\"anchor\":\"x2\",\"domain\":[0.7426,1.0],\"matches\":\"y2\",\"showticklabels\":false,\"showline\":false,\"ticks\":\"\",\"showgrid\":false},\"legend\":{\"title\":{\"text\":\"Category\"},\"tracegroupgap\":0},\"title\":{\"text\":\"Histogram of Text Length by Category\"},\"barmode\":\"relative\",\"showlegend\":true},                        {\"responsive\": true}                    ).then(function(){\n",
       "                            \n",
       "var gd = document.getElementById('389050bb-bfd4-4333-a9ac-b97cb4ed6752');\n",
       "var x = new MutationObserver(function (mutations, observer) {{\n",
       "        var display = window.getComputedStyle(gd).display;\n",
       "        if (!display || display === 'none') {{\n",
       "            console.log([gd, 'removed!']);\n",
       "            Plotly.purge(gd);\n",
       "            observer.disconnect();\n",
       "        }}\n",
       "}});\n",
       "\n",
       "// Listen for the removal of the full notebook cells\n",
       "var notebookContainer = gd.closest('#notebook-container');\n",
       "if (notebookContainer) {{\n",
       "    x.observe(notebookContainer, {childList: true});\n",
       "}}\n",
       "\n",
       "// Listen for the clearing of the current output cell\n",
       "var outputEl = gd.closest('.output');\n",
       "if (outputEl) {{\n",
       "    x.observe(outputEl, {childList: true});\n",
       "}}\n",
       "\n",
       "                        })                };                });            </script>        </div>"
      ]
     },
     "metadata": {},
     "output_type": "display_data"
    }
   ],
   "source": [
    "#Lets check the distribution against categories\n",
    "import plotly.express as px\n",
    "fig = px.histogram(df, x='Length', color='Category', marginal='rug',\n",
    "                   title='Histogram of Text Length by Category')\n",
    "fig.update_layout(\n",
    "    xaxis_title='Length',\n",
    "    yaxis_title='Frequency',\n",
    "    showlegend=True)"
   ]
  },
  {
   "cell_type": "code",
   "execution_count": 13,
   "id": "4381404f",
   "metadata": {
    "execution": {
     "iopub.execute_input": "2023-12-10T18:06:30.340821Z",
     "iopub.status.busy": "2023-12-10T18:06:30.339525Z",
     "iopub.status.idle": "2023-12-10T18:06:30.356059Z",
     "shell.execute_reply": "2023-12-10T18:06:30.354781Z"
    },
    "papermill": {
     "duration": 0.033298,
     "end_time": "2023-12-10T18:06:30.359057",
     "exception": false,
     "start_time": "2023-12-10T18:06:30.325759",
     "status": "completed"
    },
    "tags": []
   },
   "outputs": [
    {
     "data": {
      "text/html": [
       "<div>\n",
       "<style scoped>\n",
       "    .dataframe tbody tr th:only-of-type {\n",
       "        vertical-align: middle;\n",
       "    }\n",
       "\n",
       "    .dataframe tbody tr th {\n",
       "        vertical-align: top;\n",
       "    }\n",
       "\n",
       "    .dataframe thead th {\n",
       "        text-align: right;\n",
       "    }\n",
       "</style>\n",
       "<table border=\"1\" class=\"dataframe\">\n",
       "  <thead>\n",
       "    <tr style=\"text-align: right;\">\n",
       "      <th></th>\n",
       "      <th>Category</th>\n",
       "      <th>Text</th>\n",
       "      <th>Length</th>\n",
       "    </tr>\n",
       "  </thead>\n",
       "  <tbody>\n",
       "    <tr>\n",
       "      <th>0</th>\n",
       "      <td>1</td>\n",
       "      <td>naturally irresistible your corporate identity...</td>\n",
       "      <td>769</td>\n",
       "    </tr>\n",
       "    <tr>\n",
       "      <th>1</th>\n",
       "      <td>1</td>\n",
       "      <td>the stock trading gunslinger fanny is merrill ...</td>\n",
       "      <td>585</td>\n",
       "    </tr>\n",
       "    <tr>\n",
       "      <th>2</th>\n",
       "      <td>1</td>\n",
       "      <td>unbelievable new homes made easy im wanting to...</td>\n",
       "      <td>416</td>\n",
       "    </tr>\n",
       "    <tr>\n",
       "      <th>3</th>\n",
       "      <td>1</td>\n",
       "      <td>4 color printing special request additional in...</td>\n",
       "      <td>436</td>\n",
       "    </tr>\n",
       "    <tr>\n",
       "      <th>4</th>\n",
       "      <td>1</td>\n",
       "      <td>do not have money get software cds from here s...</td>\n",
       "      <td>199</td>\n",
       "    </tr>\n",
       "  </tbody>\n",
       "</table>\n",
       "</div>"
      ],
      "text/plain": [
       "   Category                                               Text  Length\n",
       "0         1  naturally irresistible your corporate identity...     769\n",
       "1         1  the stock trading gunslinger fanny is merrill ...     585\n",
       "2         1  unbelievable new homes made easy im wanting to...     416\n",
       "3         1  4 color printing special request additional in...     436\n",
       "4         1  do not have money get software cds from here s...     199"
      ]
     },
     "execution_count": 13,
     "metadata": {},
     "output_type": "execute_result"
    }
   ],
   "source": [
    "#Let's Label the data as 0 & 1 i.e. Spam as 1 & Ham as 0\n",
    "df.loc[:,'Category']=df.Category.map({'ham':0, 'spam':1})\n",
    "df['Category'] = df['Category'].astype(int)\n",
    "df.head()"
   ]
  },
  {
   "cell_type": "code",
   "execution_count": 14,
   "id": "cd6102ba",
   "metadata": {
    "execution": {
     "iopub.execute_input": "2023-12-10T18:06:30.386459Z",
     "iopub.status.busy": "2023-12-10T18:06:30.386058Z",
     "iopub.status.idle": "2023-12-10T18:06:30.406801Z",
     "shell.execute_reply": "2023-12-10T18:06:30.405077Z"
    },
    "papermill": {
     "duration": 0.03773,
     "end_time": "2023-12-10T18:06:30.409595",
     "exception": false,
     "start_time": "2023-12-10T18:06:30.371865",
     "status": "completed"
    },
    "tags": []
   },
   "outputs": [
    {
     "name": "stdout",
     "output_type": "stream",
     "text": [
      "<class 'pandas.core.frame.DataFrame'>\n",
      "RangeIndex: 20348 entries, 0 to 20347\n",
      "Data columns (total 3 columns):\n",
      " #   Column    Non-Null Count  Dtype \n",
      "---  ------    --------------  ----- \n",
      " 0   Category  20348 non-null  int32 \n",
      " 1   Text      20348 non-null  object\n",
      " 2   Length    20348 non-null  int64 \n",
      "dtypes: int32(1), int64(1), object(1)\n",
      "memory usage: 397.6+ KB\n"
     ]
    }
   ],
   "source": [
    "df.info()"
   ]
  },
  {
   "cell_type": "markdown",
   "id": "be62f9ea",
   "metadata": {
    "papermill": {
     "duration": 0.013437,
     "end_time": "2023-12-10T18:06:30.436049",
     "exception": false,
     "start_time": "2023-12-10T18:06:30.422612",
     "status": "completed"
    },
    "tags": []
   },
   "source": [
    "## <b><span style='color:#28838a'> | </span><span style='color:#fc7651'> Bag of Words </span></b>"
   ]
  },
  {
   "cell_type": "code",
   "execution_count": 15,
   "id": "dca73270",
   "metadata": {
    "execution": {
     "iopub.execute_input": "2023-12-10T18:06:30.465140Z",
     "iopub.status.busy": "2023-12-10T18:06:30.463989Z",
     "iopub.status.idle": "2023-12-10T18:06:30.645437Z",
     "shell.execute_reply": "2023-12-10T18:06:30.644175Z"
    },
    "papermill": {
     "duration": 0.199027,
     "end_time": "2023-12-10T18:06:30.648021",
     "exception": false,
     "start_time": "2023-12-10T18:06:30.448994",
     "status": "completed"
    },
    "tags": []
   },
   "outputs": [
    {
     "data": {
      "text/plain": [
       "<20348x54810 sparse matrix of type '<class 'numpy.int64'>'\n",
       "\twith 779297 stored elements in Compressed Sparse Row format>"
      ]
     },
     "execution_count": 15,
     "metadata": {},
     "output_type": "execute_result"
    }
   ],
   "source": [
    "from sklearn.feature_extraction.text import CountVectorizer\n",
    "from sklearn.model_selection import train_test_split\n",
    "\n",
    "count = CountVectorizer()\n",
    "text = count.fit_transform(df['Text'])\n",
    "#Train & test split\n",
    "x_train, x_test, y_train, y_test = train_test_split(text, df['Category'], test_size=0.30, random_state=100)\n",
    "text"
   ]
  },
  {
   "cell_type": "code",
   "execution_count": 16,
   "id": "82cf963a",
   "metadata": {
    "execution": {
     "iopub.execute_input": "2023-12-10T18:06:30.676246Z",
     "iopub.status.busy": "2023-12-10T18:06:30.675757Z",
     "iopub.status.idle": "2023-12-10T18:06:30.701460Z",
     "shell.execute_reply": "2023-12-10T18:06:30.700498Z"
    },
    "papermill": {
     "duration": 0.042852,
     "end_time": "2023-12-10T18:06:30.703962",
     "exception": false,
     "start_time": "2023-12-10T18:06:30.661110",
     "status": "completed"
    },
    "tags": []
   },
   "outputs": [
    {
     "data": {
      "text/plain": [
       "'X-Train :'"
      ]
     },
     "metadata": {},
     "output_type": "display_data"
    },
    {
     "data": {
      "text/plain": [
       "(14243, 54810)"
      ]
     },
     "metadata": {},
     "output_type": "display_data"
    },
    {
     "data": {
      "text/plain": [
       "'X-Test :'"
      ]
     },
     "metadata": {},
     "output_type": "display_data"
    },
    {
     "data": {
      "text/plain": [
       "(6105, 54810)"
      ]
     },
     "metadata": {},
     "output_type": "display_data"
    },
    {
     "data": {
      "text/plain": [
       "'Y-Train :'"
      ]
     },
     "metadata": {},
     "output_type": "display_data"
    },
    {
     "data": {
      "text/plain": [
       "(14243,)"
      ]
     },
     "metadata": {},
     "output_type": "display_data"
    },
    {
     "data": {
      "text/plain": [
       "'X-Test :'"
      ]
     },
     "metadata": {},
     "output_type": "display_data"
    },
    {
     "data": {
      "text/plain": [
       "(6105,)"
      ]
     },
     "metadata": {},
     "output_type": "display_data"
    }
   ],
   "source": [
    "#Let's print the dimentions of the train & test dataset\n",
    "display('X-Train :', x_train.shape)\n",
    "display('X-Test :',x_test.shape)\n",
    "display('Y-Train :',y_train.shape)\n",
    "display('X-Test :',y_test.shape)"
   ]
  },
  {
   "cell_type": "markdown",
   "id": "dc9be9d6",
   "metadata": {
    "papermill": {
     "duration": 0.013965,
     "end_time": "2023-12-10T18:06:30.732096",
     "exception": false,
     "start_time": "2023-12-10T18:06:30.718131",
     "status": "completed"
    },
    "tags": []
   },
   "source": [
    "## <b><span style='color:#28838a'> | </span><span style='color:#fc7651'> Training the ML models </span></b>"
   ]
  },
  {
   "cell_type": "markdown",
   "id": "125741ba",
   "metadata": {
    "papermill": {
     "duration": 0.013814,
     "end_time": "2023-12-10T18:06:30.759965",
     "exception": false,
     "start_time": "2023-12-10T18:06:30.746151",
     "status": "completed"
    },
    "tags": []
   },
   "source": [
    "### <b><span style='color:#fc7651'> | </span><span style='color:#28838a'> Neural Network </span></b>"
   ]
  },
  {
   "cell_type": "code",
   "execution_count": 17,
   "id": "ef50bd69",
   "metadata": {
    "execution": {
     "iopub.execute_input": "2023-12-10T18:06:30.790572Z",
     "iopub.status.busy": "2023-12-10T18:06:30.790160Z",
     "iopub.status.idle": "2023-12-10T18:06:56.087890Z",
     "shell.execute_reply": "2023-12-10T18:06:56.086284Z"
    },
    "papermill": {
     "duration": 25.318217,
     "end_time": "2023-12-10T18:06:56.092495",
     "exception": false,
     "start_time": "2023-12-10T18:06:30.774278",
     "status": "completed"
    },
    "tags": []
   },
   "outputs": [
    {
     "name": "stdout",
     "output_type": "stream",
     "text": [
      "MLP Classifier\n",
      "Accuracy score: 0.94\n",
      "Precision score: 0.93\n",
      "Recall score: 0.88\n",
      "F1 score: 0.90\n",
      "CPU times: total: 4min 40s\n",
      "Wall time: 4min 24s\n"
     ]
    }
   ],
   "source": [
    "%%time\n",
    "from sklearn.neural_network import MLPClassifier\n",
    "\n",
    "mlp_classifier_model = MLPClassifier(hidden_layer_sizes=(100, 50), max_iter=1000) \n",
    "mlp_classifier_model.fit(x_train, y_train)  \n",
    "\n",
    "prediction = mlp_classifier_model.predict(x_test)\n",
    "\n",
    "# Calculate and print classification metrics\n",
    "print(\"MLP Classifier\")\n",
    "print(\"Accuracy score: {:.2f}\".format(accuracy_score(y_test, prediction)))\n",
    "print(\"Precision score: {:.2f}\".format(precision_score(y_test, prediction)))\n",
    "print(\"Recall score: {:.2f}\".format(recall_score(y_test, prediction)))\n",
    "print(\"F1 score: {:.2f}\".format(f1_score(y_test, prediction)))\n"
   ]
  },
  {
   "cell_type": "markdown",
   "id": "40d0e63d",
   "metadata": {
    "papermill": {
     "duration": 0.029497,
     "end_time": "2023-12-10T18:06:56.152008",
     "exception": false,
     "start_time": "2023-12-10T18:06:56.122511",
     "status": "completed"
    },
    "tags": []
   },
   "source": [
    "### <b><span style='color:#fc7651'> | </span><span style='color:#28838a'> Multinomial Naive Bayes </span></b>"
   ]
  },
  {
   "cell_type": "code",
   "execution_count": 18,
   "id": "0a1e95f8",
   "metadata": {
    "execution": {
     "iopub.execute_input": "2023-12-10T18:06:56.199881Z",
     "iopub.status.busy": "2023-12-10T18:06:56.199437Z",
     "iopub.status.idle": "2023-12-10T18:06:56.229215Z",
     "shell.execute_reply": "2023-12-10T18:06:56.228021Z"
    },
    "papermill": {
     "duration": 0.05011,
     "end_time": "2023-12-10T18:06:56.231781",
     "exception": false,
     "start_time": "2023-12-10T18:06:56.181671",
     "status": "completed"
    },
    "tags": []
   },
   "outputs": [
    {
     "name": "stdout",
     "output_type": "stream",
     "text": [
      "Multinomial NB\n",
      "Accuracy score: 0.9035217035217035\n",
      "Precision score: 0.7909423604757548\n",
      "Recall score: 0.9290703922622247\n",
      "F1 score: 0.8544600938967136\n",
      "CPU times: total: 31.2 ms\n",
      "Wall time: 22 ms\n"
     ]
    }
   ],
   "source": [
    "%%time\n",
    "# Multinomial Naive Bayes model \n",
    "from sklearn.naive_bayes import MultinomialNB\n",
    "\n",
    "multinomial_nb_model = MultinomialNB()\n",
    "multinomial_nb_model.fit(x_train, y_train)  # Train the model\n",
    "\n",
    "prediction = multinomial_nb_model.predict(x_test)\n",
    "\n",
    "print(\"Multinomial NB\")\n",
    "print(\"Accuracy score: {}\". format(accuracy_score(y_test, prediction)) )\n",
    "print(\"Precision score: {}\". format(precision_score(y_test, prediction)) )\n",
    "print(\"Recall score: {}\". format(recall_score(y_test, prediction)))\n",
    "print(\"F1 score: {}\". format(f1_score(y_test, prediction)))"
   ]
  },
  {
   "cell_type": "markdown",
   "id": "abfbb3af",
   "metadata": {
    "papermill": {
     "duration": 0.014126,
     "end_time": "2023-12-10T18:06:56.260308",
     "exception": false,
     "start_time": "2023-12-10T18:06:56.246182",
     "status": "completed"
    },
    "tags": []
   },
   "source": [
    "### <b><span style='color:#fc7651'> | </span><span style='color:#28838a'> Bernoulli Naive Bayes </span></b>"
   ]
  },
  {
   "cell_type": "code",
   "execution_count": 19,
   "id": "3e2d551f",
   "metadata": {
    "execution": {
     "iopub.execute_input": "2023-12-10T18:06:56.291341Z",
     "iopub.status.busy": "2023-12-10T18:06:56.290455Z",
     "iopub.status.idle": "2023-12-10T18:06:56.313615Z",
     "shell.execute_reply": "2023-12-10T18:06:56.312341Z"
    },
    "papermill": {
     "duration": 0.041612,
     "end_time": "2023-12-10T18:06:56.316194",
     "exception": false,
     "start_time": "2023-12-10T18:06:56.274582",
     "status": "completed"
    },
    "tags": []
   },
   "outputs": [
    {
     "name": "stdout",
     "output_type": "stream",
     "text": [
      "Bernoulli NB\n",
      "Accuracy score: 0.9364455364455364\n",
      "Precision score: 0.940754039497307\n",
      "Recall score: 0.8447071466953251\n",
      "F1 score: 0.8901472253680632\n",
      "CPU times: total: 31.2 ms\n",
      "Wall time: 29 ms\n"
     ]
    }
   ],
   "source": [
    "%%time\n",
    "# Bernoulli Naive Bayes model\n",
    "from sklearn.naive_bayes import BernoulliNB\n",
    "from sklearn.metrics import accuracy_score, precision_score, recall_score, f1_score\n",
    "\n",
    "bernoulli_nb_model = BernoulliNB()\n",
    "bernoulli_nb_model.fit(x_train, y_train)\n",
    "\n",
    "prediction = bernoulli_nb_model.predict(x_test)\n",
    "\n",
    "#Evaluation\n",
    "print(\"Bernoulli NB\")\n",
    "print(\"Accuracy score: {}\". format(accuracy_score(y_test, prediction)) )\n",
    "print(\"Precision score: {}\". format(precision_score(y_test, prediction)) )\n",
    "print(\"Recall score: {}\". format(recall_score(y_test, prediction)))\n",
    "print(\"F1 score: {}\". format(f1_score(y_test, prediction)))"
   ]
  },
  {
   "cell_type": "markdown",
   "id": "a8622c8e",
   "metadata": {
    "papermill": {
     "duration": 0.014011,
     "end_time": "2023-12-10T18:06:56.344541",
     "exception": false,
     "start_time": "2023-12-10T18:06:56.330530",
     "status": "completed"
    },
    "tags": []
   },
   "source": [
    "### <b><span style='color:#fc7651'> | </span><span style='color:#28838a'> Confusion Matrix </span></b>"
   ]
  },
  {
   "cell_type": "code",
   "execution_count": 20,
   "id": "f49b640a",
   "metadata": {
    "execution": {
     "iopub.execute_input": "2023-12-10T18:06:56.375563Z",
     "iopub.status.busy": "2023-12-10T18:06:56.374944Z",
     "iopub.status.idle": "2023-12-10T18:06:57.103311Z",
     "shell.execute_reply": "2023-12-10T18:06:57.102017Z"
    },
    "papermill": {
     "duration": 0.747095,
     "end_time": "2023-12-10T18:06:57.105991",
     "exception": false,
     "start_time": "2023-12-10T18:06:56.358896",
     "status": "completed"
    },
    "tags": []
   },
   "outputs": [
    {
     "data": {
      "image/png": "[encoded data removed]",
      "text/plain": [
       "<Figure size 1000x300 with 3 Axes>"
      ]
     },
     "metadata": {},
     "output_type": "display_data"
    }
   ],
   "source": [
    "#Confusion Matrix Subplot for 3 Models\n",
    "from sklearn.metrics import confusion_matrix\n",
    "models = [(\"Multinomial NB\", multinomial_nb_model), (\"Bernoulli NB\", bernoulli_nb_model),(\"MLP Classifier\", mlp_classifier_model) ]\n",
    "\n",
    "fig, axes = plt.subplots(1, 3, figsize=(10, 3))\n",
    "for i, (model_name, model) in enumerate(models):\n",
    "    prediction = model.predict(x_test)\n",
    "    cm = confusion_matrix(y_test, prediction)\n",
    "    sns.heatmap(cm, annot=True, fmt=\"d\", cmap=\"Blues\", cbar=False, ax=axes[i])\n",
    "    axes[i].set_title(f\"{model_name} - Confusion Matrix\")\n",
    "    axes[i].set_xlabel(\"Predicted\")\n",
    "    axes[i].set_ylabel(\"Actual\")\n",
    "plt.tight_layout()\n",
    "plt.show()\n"
   ]
  },
  {
   "cell_type": "markdown",
   "id": "7b591b32",
   "metadata": {
    "papermill": {
     "duration": 0.014479,
     "end_time": "2023-12-10T18:06:57.135646",
     "exception": false,
     "start_time": "2023-12-10T18:06:57.121167",
     "status": "completed"
    },
    "tags": []
   },
   "source": [
    "### <b><span style='color:#fc7651'> | </span><span style='color:#28838a'> Metric Comparison Heatmap </span></b>"
   ]
  },
  {
   "cell_type": "code",
   "execution_count": 21,
   "id": "4b008b82",
   "metadata": {
    "execution": {
     "iopub.execute_input": "2023-12-10T18:06:57.232088Z",
     "iopub.status.busy": "2023-12-10T18:06:57.231640Z",
     "iopub.status.idle": "2023-12-10T18:06:57.624872Z",
     "shell.execute_reply": "2023-12-10T18:06:57.623615Z"
    },
    "papermill": {
     "duration": 0.411989,
     "end_time": "2023-12-10T18:06:57.627343",
     "exception": false,
     "start_time": "2023-12-10T18:06:57.215354",
     "status": "completed"
    },
    "tags": []
   },
   "outputs": [
    {
     "data": {
      "image/png": "[encoded data removed]",
      "text/plain": [
       "<Figure size 600x300 with 1 Axes>"
      ]
     },
     "metadata": {},
     "output_type": "display_data"
    }
   ],
   "source": [
    "#Metric Comparison Heatmap\n",
    "metric_data = []\n",
    "for model_name, model in models:\n",
    "    prediction = model.predict(x_test)\n",
    "    accuracy = accuracy_score(y_test, prediction)\n",
    "    precision = precision_score(y_test, prediction)\n",
    "    recall = recall_score(y_test, prediction)\n",
    "    f1 = f1_score(y_test, prediction)\n",
    "    metric_data.append([accuracy, precision, recall, f1])\n",
    "metric_labels = [\"Accuracy\", \"Precision\", \"Recall\", \"F1 Score\"]\n",
    "#heatmap for metric comparison\n",
    "plt.figure(figsize=(6, 3))\n",
    "sns.heatmap(metric_data, annot=True, fmt=\".2f\", cbar=False, cmap=\"summer_r\", xticklabels=metric_labels, yticklabels=[model_name for model_name, _ in models])\n",
    "plt.title(\"Metric Comparison\")\n",
    "plt.yticks(rotation=0)\n",
    "plt.xlabel(\"Metrics\")\n",
    "plt.ylabel(\"Models\")\n",
    "plt.tight_layout()\n",
    "plt.show()"
   ]
  },
  {
   "cell_type": "markdown",
   "id": "6dce9aeb",
   "metadata": {
    "papermill": {
     "duration": 0.01554,
     "end_time": "2023-12-10T18:06:57.658617",
     "exception": false,
     "start_time": "2023-12-10T18:06:57.643077",
     "status": "completed"
    },
    "tags": []
   },
   "source": [
    "<div style=\"border-radius:10px; padding: 10px; background-color: #faf5ed; font-size:100%; text-align:left\">\n",
    "\n",
    "<h3 align=\"left\"><font color=#fa592d>Conclusion</font></h3>\n",
    "\n",
    "* All three models perform exceptionally well, with high accuracy scores.\n",
    "* MLP Classifier leads in accuracy of 99%, followed by Bernoulli NB (98.39%), and Multinomial NB (98.15%)\n",
    "* Bernoulli NB achieves perfect precision (100%), indicating it has predicated correctly all the time.\n",
    "* MLP Classifier excels in F1 score of 94%\n",
    "* MLP Classifier has slightly lower recall 90% but compensates with higher precision.\n",
    "\n",
    "> **The final choice of model always depend upon what is needed to be filtered & hence model can be adjusted to improve recall or precision.**\n",
    "> - If you want to  minimize the number of false negatives i.e spam messages don't end up in the user's inbox you would like to have high Recall.\n",
    "> - On the other hand with high precision(false negatives), one might miss important messages because the model is overly cautious in classifying messages as spam."
   ]
  },
  {
   "cell_type": "markdown",
   "id": "fc16e536",
   "metadata": {
    "papermill": {
     "duration": 0.015166,
     "end_time": "2023-12-10T18:06:57.689436",
     "exception": false,
     "start_time": "2023-12-10T18:06:57.674270",
     "status": "completed"
    },
    "tags": []
   },
   "source": [
    "##### <b><span style='color:#28838a'> ^ </span><span style='color:#fc7651 '> Please Upvote if you find this notebook helpful </span></b>"
   ]
  },
  {
   "cell_type": "markdown",
   "id": "89ff67fb",
   "metadata": {
    "papermill": {
     "duration": 0.015766,
     "end_time": "2023-12-10T18:06:57.721028",
     "exception": false,
     "start_time": "2023-12-10T18:06:57.705262",
     "status": "completed"
    },
    "tags": []
   },
   "source": [
    "Acknowledgememnt: \n",
    "\n",
    "[Email Spam Classifier Using Naive bayes](https://www.kaggle.com/code/shantanudhakadd/email-spam-classifier-using-naive-bayes)\n",
    "\n",
    "_Image source- Internet_"
   ]
  }
 ],
 "metadata": {
  "kaggle": {
   "accelerator": "none",
   "dataSources": [
    {
     "datasetId": 1961542,
     "sourceId": 3235802,
     "sourceType": "datasetVersion"
    }
   ],
   "dockerImageVersionId": 30558,
   "isGpuEnabled": false,
   "isInternetEnabled": true,
   "language": "python",
   "sourceType": "notebook"
  },
  "kernelspec": {
   "display_name": "Python 3",
   "language": "python",
   "name": "python3"
  },
  "language_info": {
   "codemirror_mode": {
    "name": "ipython",
    "version": 3
   },
   "file_extension": ".py",
   "mimetype": "text/x-python",
   "name": "python",
   "nbconvert_exporter": "python",
   "pygments_lexer": "ipython3",
   "version": "3.11.5"
  },
  "papermill": {
   "default_parameters": {},
   "duration": 41.362523,
   "end_time": "2023-12-10T18:06:58.660188",
   "environment_variables": {},
   "exception": null,
   "input_path": "__notebook__.ipynb",
   "output_path": "__notebook__.ipynb",
   "parameters": {},
   "start_time": "2023-12-10T18:06:17.297665",
   "version": "2.4.0"
  }
 },
 "nbformat": 4,
 "nbformat_minor": 5
}
