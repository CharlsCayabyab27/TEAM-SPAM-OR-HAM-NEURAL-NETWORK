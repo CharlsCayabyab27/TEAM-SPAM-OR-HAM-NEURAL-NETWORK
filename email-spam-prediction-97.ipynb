{
 "cells": [
  {
   "cell_type": "code",
   "execution_count": 53,
   "id": "1d78937d",
   "metadata": {
    "execution": {
     "iopub.execute_input": "2023-10-05T11:12:26.908162Z",
     "iopub.status.busy": "2023-10-05T11:12:26.907281Z",
     "iopub.status.idle": "2023-10-05T11:12:27.287308Z",
     "shell.execute_reply": "2023-10-05T11:12:27.286182Z"
    },
    "papermill": {
     "duration": 0.391543,
     "end_time": "2023-10-05T11:12:27.290308",
     "exception": false,
     "start_time": "2023-10-05T11:12:26.898765",
     "status": "completed"
    },
    "tags": []
   },
   "outputs": [],
   "source": [
    "import joblib\n",
    "import pickle\n",
    "import base64\n",
    "import matplotlib.pyplot as plt\n",
    "import pandas as pd\n",
    "import warnings\n",
    "import numpy as np\n",
    "import tensorflow as tf\n",
    "from tensorflow.keras.callbacks import EarlyStopping, ModelCheckpoint\n",
    "from tensorflow.keras.models import Sequential\n",
    "from tensorflow.keras.models import load_model\n",
    "from tensorflow.keras.layers import Dense, Dropout\n",
    "from tensorflow.keras.optimizers import Adam\n",
    "\n",
    "from sklearn.model_selection import train_test_split\n",
    "from sklearn.feature_extraction.text import CountVectorizer\n",
    "from sklearn.preprocessing import MinMaxScaler\n",
    "from sklearn.metrics import accuracy_score\n",
    "from imblearn.over_sampling import RandomOverSampler\n",
    "import matplotlib"
   ]
  },
  {
   "cell_type": "code",
   "execution_count": 54,
   "id": "075950c6",
   "metadata": {
    "execution": {
     "iopub.execute_input": "2023-10-05T11:12:27.303614Z",
     "iopub.status.busy": "2023-10-05T11:12:27.303109Z",
     "iopub.status.idle": "2023-10-05T11:12:27.369836Z",
     "shell.execute_reply": "2023-10-05T11:12:27.368335Z"
    },
    "papermill": {
     "duration": 0.076855,
     "end_time": "2023-10-05T11:12:27.373047",
     "exception": false,
     "start_time": "2023-10-05T11:12:27.296192",
     "status": "completed"
    },
    "tags": []
   },
   "outputs": [
    {
     "data": {
      "text/html": [
       "<div>\n",
       "<style scoped>\n",
       "    .dataframe tbody tr th:only-of-type {\n",
       "        vertical-align: middle;\n",
       "    }\n",
       "\n",
       "    .dataframe tbody tr th {\n",
       "        vertical-align: top;\n",
       "    }\n",
       "\n",
       "    .dataframe thead th {\n",
       "        text-align: right;\n",
       "    }\n",
       "</style>\n",
       "<table border=\"1\" class=\"dataframe\">\n",
       "  <thead>\n",
       "    <tr style=\"text-align: right;\">\n",
       "      <th></th>\n",
       "      <th>label</th>\n",
       "      <th>text</th>\n",
       "    </tr>\n",
       "  </thead>\n",
       "  <tbody>\n",
       "    <tr>\n",
       "      <th>0</th>\n",
       "      <td>spam</td>\n",
       "      <td>naturally irresistible your corporate identity...</td>\n",
       "    </tr>\n",
       "    <tr>\n",
       "      <th>1</th>\n",
       "      <td>spam</td>\n",
       "      <td>the stock trading gunslinger fanny is merrill ...</td>\n",
       "    </tr>\n",
       "    <tr>\n",
       "      <th>2</th>\n",
       "      <td>spam</td>\n",
       "      <td>unbelievable new homes made easy im wanting to...</td>\n",
       "    </tr>\n",
       "    <tr>\n",
       "      <th>3</th>\n",
       "      <td>spam</td>\n",
       "      <td>4 color printing special request additional in...</td>\n",
       "    </tr>\n",
       "    <tr>\n",
       "      <th>4</th>\n",
       "      <td>spam</td>\n",
       "      <td>do not have money get software cds from here s...</td>\n",
       "    </tr>\n",
       "  </tbody>\n",
       "</table>\n",
       "</div>"
      ],
      "text/plain": [
       "  label                                               text\n",
       "0  spam  naturally irresistible your corporate identity...\n",
       "1  spam  the stock trading gunslinger fanny is merrill ...\n",
       "2  spam  unbelievable new homes made easy im wanting to...\n",
       "3  spam  4 color printing special request additional in...\n",
       "4  spam  do not have money get software cds from here s..."
      ]
     },
     "execution_count": 54,
     "metadata": {},
     "output_type": "execute_result"
    }
   ],
   "source": [
    "df=pd.read_csv('spam_dataset.csv',encoding='latin-1')\n",
    "df.head()"
   ]
  },
  {
   "cell_type": "code",
   "execution_count": 55,
   "id": "4d59ac45",
   "metadata": {
    "execution": {
     "iopub.execute_input": "2023-10-05T11:12:27.417933Z",
     "iopub.status.busy": "2023-10-05T11:12:27.417522Z",
     "iopub.status.idle": "2023-10-05T11:12:27.425176Z",
     "shell.execute_reply": "2023-10-05T11:12:27.423817Z"
    },
    "papermill": {
     "duration": 0.018006,
     "end_time": "2023-10-05T11:12:27.428258",
     "exception": false,
     "start_time": "2023-10-05T11:12:27.410252",
     "status": "completed"
    },
    "tags": []
   },
   "outputs": [
    {
     "data": {
      "text/plain": [
       "(20348, 2)"
      ]
     },
     "execution_count": 55,
     "metadata": {},
     "output_type": "execute_result"
    }
   ],
   "source": [
    "df.shape"
   ]
  },
  {
   "cell_type": "code",
   "execution_count": 56,
   "id": "96c04d74",
   "metadata": {
    "execution": {
     "iopub.execute_input": "2023-10-05T11:12:27.442229Z",
     "iopub.status.busy": "2023-10-05T11:12:27.441783Z",
     "iopub.status.idle": "2023-10-05T11:12:27.470854Z",
     "shell.execute_reply": "2023-10-05T11:12:27.469478Z"
    },
    "papermill": {
     "duration": 0.039882,
     "end_time": "2023-10-05T11:12:27.474275",
     "exception": false,
     "start_time": "2023-10-05T11:12:27.434393",
     "status": "completed"
    },
    "tags": []
   },
   "outputs": [
    {
     "name": "stdout",
     "output_type": "stream",
     "text": [
      "<class 'pandas.core.frame.DataFrame'>\n",
      "RangeIndex: 20348 entries, 0 to 20347\n",
      "Data columns (total 2 columns):\n",
      " #   Column  Non-Null Count  Dtype \n",
      "---  ------  --------------  ----- \n",
      " 0   label   20348 non-null  object\n",
      " 1   text    20348 non-null  object\n",
      "dtypes: object(2)\n",
      "memory usage: 318.1+ KB\n"
     ]
    }
   ],
   "source": [
    "df.info()"
   ]
  },
  {
   "cell_type": "code",
   "execution_count": 57,
   "id": "fbb709c1",
   "metadata": {
    "execution": {
     "iopub.execute_input": "2023-10-05T11:12:27.487866Z",
     "iopub.status.busy": "2023-10-05T11:12:27.487444Z",
     "iopub.status.idle": "2023-10-05T11:12:27.497760Z",
     "shell.execute_reply": "2023-10-05T11:12:27.496414Z"
    },
    "papermill": {
     "duration": 0.020313,
     "end_time": "2023-10-05T11:12:27.500318",
     "exception": false,
     "start_time": "2023-10-05T11:12:27.480005",
     "status": "completed"
    },
    "tags": []
   },
   "outputs": [
    {
     "data": {
      "text/plain": [
       "0        naturally irresistible your corporate identity...\n",
       "1        the stock trading gunslinger fanny is merrill ...\n",
       "2        unbelievable new homes made easy im wanting to...\n",
       "3        4 color printing special request additional in...\n",
       "4        do not have money get software cds from here s...\n",
       "                               ...                        \n",
       "20343                                                 /ban\n",
       "20344                                                 /ban\n",
       "20345                                                 /ban\n",
       "20346                                            Kaisi hii\n",
       "20347                                              Shock q\n",
       "Name: text, Length: 20348, dtype: object"
      ]
     },
     "execution_count": 57,
     "metadata": {},
     "output_type": "execute_result"
    }
   ],
   "source": [
    "df['text']"
   ]
  },
  {
   "cell_type": "code",
   "execution_count": 58,
   "id": "06a37872",
   "metadata": {
    "execution": {
     "iopub.execute_input": "2023-10-05T11:12:27.515497Z",
     "iopub.status.busy": "2023-10-05T11:12:27.514935Z",
     "iopub.status.idle": "2023-10-05T11:12:27.526956Z",
     "shell.execute_reply": "2023-10-05T11:12:27.525828Z"
    },
    "papermill": {
     "duration": 0.023478,
     "end_time": "2023-10-05T11:12:27.529727",
     "exception": false,
     "start_time": "2023-10-05T11:12:27.506249",
     "status": "completed"
    },
    "tags": []
   },
   "outputs": [],
   "source": [
    "df.drop_duplicates(inplace=True)"
   ]
  },
  {
   "cell_type": "code",
   "execution_count": 59,
   "id": "6dfa0995",
   "metadata": {},
   "outputs": [
    {
     "name": "stdout",
     "output_type": "stream",
     "text": [
      "spam_count: 6011\n",
      "ham_count: 14323\n",
      "total_messages: 20334\n"
     ]
    }
   ],
   "source": [
    "spam_count = len(df[df['label'] == 'spam'])\n",
    "ham_count = len(df[df['label'] == 'ham'])\n",
    "total_messages = len(df)\n",
    "spam_percentage = (spam_count / total_messages) * 100\n",
    "ham_percentage = (ham_count / total_messages) * 100\n",
    "print(f\"spam_count: {spam_count}\")\n",
    "print(f\"ham_count: {ham_count}\")\n",
    "print(f\"total_messages: {total_messages}\")\n"
   ]
  },
  {
   "cell_type": "code",
   "execution_count": 60,
   "id": "bca26e88",
   "metadata": {},
   "outputs": [
    {
     "data": {
      "text/plain": [
       "(-1.1840870762563476,\n",
       " 1.104003570880801,\n",
       " -1.1029919364543506,\n",
       " 1.1628821183506632)"
      ]
     },
     "execution_count": 60,
     "metadata": {},
     "output_type": "execute_result"
    },
    {
     "data": {
      "image/png": "[encoded data removed]",
      "text/plain": [
       "<Figure size 600x600 with 1 Axes>"
      ]
     },
     "metadata": {},
     "output_type": "display_data"
    }
   ],
   "source": [
    "labels = ['Spam', 'Regular (ham)']\n",
    "sizes = [spam_percentage, ham_percentage]\n",
    "colors = ['#ff9999', '#66b3ff']\n",
    "explode = (0.1, 0)\n",
    "\n",
    "plt.figure(figsize=(6, 6))\n",
    "plt.pie(sizes, explode=explode, labels=labels, colors=colors, autopct='%1.1f%%', startangle=90)\n",
    "plt.title('Percentage of Spam Messages to Regular Messages')\n",
    "plt.axis('equal')"
   ]
  },
  {
   "cell_type": "code",
   "execution_count": 61,
   "id": "a1acb3aa",
   "metadata": {
    "execution": {
     "iopub.execute_input": "2023-10-05T11:12:27.543729Z",
     "iopub.status.busy": "2023-10-05T11:12:27.543290Z",
     "iopub.status.idle": "2023-10-05T11:12:27.835333Z",
     "shell.execute_reply": "2023-10-05T11:12:27.834419Z"
    },
    "papermill": {
     "duration": 0.302042,
     "end_time": "2023-10-05T11:12:27.837792",
     "exception": false,
     "start_time": "2023-10-05T11:12:27.535750",
     "status": "completed"
    },
    "tags": []
   },
   "outputs": [
    {
     "data": {
      "text/plain": [
       "<Axes: xlabel='label'>"
      ]
     },
     "execution_count": 61,
     "metadata": {},
     "output_type": "execute_result"
    },
    {
     "data": {
      "image/png": "[encoded data removed]",
      "text/plain": [
       "<Figure size 640x480 with 1 Axes>"
      ]
     },
     "metadata": {},
     "output_type": "display_data"
    }
   ],
   "source": [
    "df['label'].value_counts().plot.bar()"
   ]
  },
  {
   "cell_type": "code",
   "execution_count": 62,
   "id": "cf86e0a6",
   "metadata": {},
   "outputs": [
    {
     "data": {
      "text/plain": [
       "Text(0.5, 1.0, 'Distribution of Number of Characters in Messages')"
      ]
     },
     "execution_count": 62,
     "metadata": {},
     "output_type": "execute_result"
    },
    {
     "data": {
      "image/png": "[encoded data removed]",
      "text/plain": [
       "<Figure size 800x600 with 1 Axes>"
      ]
     },
     "metadata": {},
     "output_type": "display_data"
    }
   ],
   "source": [
    "df['number_of_characters_in_the_message'] = df['text'].apply(len)\n",
    "plt.figure(figsize=(8, 6))\n",
    "df['number_of_characters_in_the_message'].hist(bins=50, color='skyblue', edgecolor='black')\n",
    "plt.xlabel('Number of Characters in the Message')\n",
    "plt.ylabel('Frequency')\n",
    "plt.title('Distribution of Number of Characters in Messages')"
   ]
  },
  {
   "cell_type": "markdown",
   "id": "d89a599e",
   "metadata": {
    "papermill": {
     "duration": 0.010612,
     "end_time": "2023-10-05T11:12:29.579463",
     "exception": false,
     "start_time": "2023-10-05T11:12:29.568851",
     "status": "completed"
    },
    "tags": []
   },
   "source": [
    "# Data PreProcessing"
   ]
  },
  {
   "cell_type": "code",
   "execution_count": 63,
   "id": "e7145761",
   "metadata": {
    "execution": {
     "iopub.execute_input": "2023-10-05T11:12:29.604052Z",
     "iopub.status.busy": "2023-10-05T11:12:29.603704Z",
     "iopub.status.idle": "2023-10-05T11:12:29.616743Z",
     "shell.execute_reply": "2023-10-05T11:12:29.615712Z"
    },
    "papermill": {
     "duration": 0.032517,
     "end_time": "2023-10-05T11:12:29.622664",
     "exception": false,
     "start_time": "2023-10-05T11:12:29.590147",
     "status": "completed"
    },
    "tags": []
   },
   "outputs": [
    {
     "data": {
      "text/plain": [
       "0        naturally irresistible your corporate identity...\n",
       "1        the stock trading gunslinger fanny is merrill ...\n",
       "2        unbelievable new homes made easy im wanting to...\n",
       "3        4 color printing special request additional in...\n",
       "4        do not have money get software cds from here s...\n",
       "                               ...                        \n",
       "20333    SPAM ALERT  ð  User:     Username: @DillyBu...\n",
       "20341                                             Hum ky h\n",
       "20342                                                 /ban\n",
       "20346                                            Kaisi hii\n",
       "20347                                              Shock q\n",
       "Name: text, Length: 20334, dtype: object"
      ]
     },
     "execution_count": 63,
     "metadata": {},
     "output_type": "execute_result"
    }
   ],
   "source": [
    "def lowerChange(text):\n",
    "    return text.lower() \n",
    "\n",
    "df['']=df['text'].apply(lowerChange)\n",
    "df['text']"
   ]
  },
  {
   "cell_type": "code",
   "execution_count": 64,
   "id": "36711dbd",
   "metadata": {
    "execution": {
     "iopub.execute_input": "2023-10-05T11:12:33.699974Z",
     "iopub.status.busy": "2023-10-05T11:12:33.698992Z",
     "iopub.status.idle": "2023-10-05T11:12:33.707476Z",
     "shell.execute_reply": "2023-10-05T11:12:33.706082Z"
    },
    "papermill": {
     "duration": 0.022803,
     "end_time": "2023-10-05T11:12:33.709581",
     "exception": false,
     "start_time": "2023-10-05T11:12:33.686778",
     "status": "completed"
    },
    "tags": []
   },
   "outputs": [],
   "source": [
    "df.drop('text',axis=1,inplace=True)\n"
   ]
  },
  {
   "cell_type": "markdown",
   "id": "94f9fda5",
   "metadata": {
    "papermill": {
     "duration": 0.010305,
     "end_time": "2023-10-05T11:12:33.730520",
     "exception": false,
     "start_time": "2023-10-05T11:12:33.720215",
     "status": "completed"
    },
    "tags": []
   },
   "source": [
    "1=Spam\n",
    "0=Ham"
   ]
  },
  {
   "cell_type": "code",
   "execution_count": 65,
   "id": "7e6d5edf",
   "metadata": {
    "execution": {
     "iopub.execute_input": "2023-10-05T11:12:33.755069Z",
     "iopub.status.busy": "2023-10-05T11:12:33.754614Z",
     "iopub.status.idle": "2023-10-05T11:12:33.768400Z",
     "shell.execute_reply": "2023-10-05T11:12:33.767084Z"
    },
    "papermill": {
     "duration": 0.029287,
     "end_time": "2023-10-05T11:12:33.770589",
     "exception": false,
     "start_time": "2023-10-05T11:12:33.741302",
     "status": "completed"
    },
    "tags": []
   },
   "outputs": [],
   "source": [
    "df = pd.read_csv('spam_dataset.csv', skiprows=1, names=['label', 'text'])\n",
    "df['label'] = df['label'].map({'spam': 1, 'ham': 0})"
   ]
  },
  {
   "cell_type": "markdown",
   "id": "2714a5ad",
   "metadata": {
    "papermill": {
     "duration": 0.020427,
     "end_time": "2023-10-05T11:12:36.765183",
     "exception": false,
     "start_time": "2023-10-05T11:12:36.744756",
     "status": "completed"
    },
    "tags": []
   },
   "source": [
    "# Vectorize Text"
   ]
  },
  {
   "cell_type": "code",
   "execution_count": 66,
   "id": "87e1a96b",
   "metadata": {
    "execution": {
     "iopub.execute_input": "2023-10-05T11:12:36.810244Z",
     "iopub.status.busy": "2023-10-05T11:12:36.809810Z",
     "iopub.status.idle": "2023-10-05T11:12:36.822576Z",
     "shell.execute_reply": "2023-10-05T11:12:36.821406Z"
    },
    "papermill": {
     "duration": 0.038576,
     "end_time": "2023-10-05T11:12:36.824792",
     "exception": false,
     "start_time": "2023-10-05T11:12:36.786216",
     "status": "completed"
    },
    "tags": []
   },
   "outputs": [
    {
     "data": {
      "text/html": [
       "<div>\n",
       "<style scoped>\n",
       "    .dataframe tbody tr th:only-of-type {\n",
       "        vertical-align: middle;\n",
       "    }\n",
       "\n",
       "    .dataframe tbody tr th {\n",
       "        vertical-align: top;\n",
       "    }\n",
       "\n",
       "    .dataframe thead th {\n",
       "        text-align: right;\n",
       "    }\n",
       "</style>\n",
       "<table border=\"1\" class=\"dataframe\">\n",
       "  <thead>\n",
       "    <tr style=\"text-align: right;\">\n",
       "      <th></th>\n",
       "      <th>label</th>\n",
       "      <th>text</th>\n",
       "    </tr>\n",
       "  </thead>\n",
       "  <tbody>\n",
       "    <tr>\n",
       "      <th>0</th>\n",
       "      <td>1</td>\n",
       "      <td>naturally irresistible your corporate identity...</td>\n",
       "    </tr>\n",
       "    <tr>\n",
       "      <th>1</th>\n",
       "      <td>1</td>\n",
       "      <td>the stock trading gunslinger fanny is merrill ...</td>\n",
       "    </tr>\n",
       "    <tr>\n",
       "      <th>2</th>\n",
       "      <td>1</td>\n",
       "      <td>unbelievable new homes made easy im wanting to...</td>\n",
       "    </tr>\n",
       "    <tr>\n",
       "      <th>3</th>\n",
       "      <td>1</td>\n",
       "      <td>4 color printing special request additional in...</td>\n",
       "    </tr>\n",
       "    <tr>\n",
       "      <th>4</th>\n",
       "      <td>1</td>\n",
       "      <td>do not have money get software cds from here s...</td>\n",
       "    </tr>\n",
       "  </tbody>\n",
       "</table>\n",
       "</div>"
      ],
      "text/plain": [
       "   label                                               text\n",
       "0      1  naturally irresistible your corporate identity...\n",
       "1      1  the stock trading gunslinger fanny is merrill ...\n",
       "2      1  unbelievable new homes made easy im wanting to...\n",
       "3      1  4 color printing special request additional in...\n",
       "4      1  do not have money get software cds from here s..."
      ]
     },
     "execution_count": 66,
     "metadata": {},
     "output_type": "execute_result"
    }
   ],
   "source": [
    "df.head()"
   ]
  },
  {
   "cell_type": "markdown",
   "id": "b8e2eef6",
   "metadata": {},
   "source": [
    "# DATA SPLITTING"
   ]
  },
  {
   "cell_type": "code",
   "execution_count": 67,
   "id": "2b43cd57",
   "metadata": {
    "execution": {
     "iopub.execute_input": "2023-10-05T11:12:37.046431Z",
     "iopub.status.busy": "2023-10-05T11:12:37.044677Z",
     "iopub.status.idle": "2023-10-05T11:12:37.174902Z",
     "shell.execute_reply": "2023-10-05T11:12:37.173464Z"
    },
    "papermill": {
     "duration": 0.157109,
     "end_time": "2023-10-05T11:12:37.177450",
     "exception": false,
     "start_time": "2023-10-05T11:12:37.020341",
     "status": "completed"
    },
    "tags": []
   },
   "outputs": [],
   "source": [
    "train_data, temp_data, train_labels, temp_labels = train_test_split(\n",
    "    df['text'], df['label'], test_size=0.2, random_state=100\n",
    ")\n",
    "\n",
    "test_data, cv_data, test_labels, cv_labels = train_test_split(\n",
    "    temp_data, temp_labels, test_size=0.5, random_state=100\n",
    ")"
   ]
  },
  {
   "cell_type": "markdown",
   "id": "7e61e898",
   "metadata": {},
   "source": [
    "# RESAMPLING"
   ]
  },
  {
   "cell_type": "code",
   "execution_count": 68,
   "id": "1e52fccd",
   "metadata": {},
   "outputs": [],
   "source": [
    "vectorizer = CountVectorizer(max_features=400)\n",
    "train_data_numeric = vectorizer.fit_transform(train_data).toarray()\n",
    "test_data_numeric = vectorizer.transform(test_data).toarray()\n",
    "\n",
    "ros = RandomOverSampler(random_state=42)\n",
    "train_data_resampled, train_labels_resampled = ros.fit_resample(train_data_numeric, train_labels)\n",
    "scaler = MinMaxScaler()\n",
    "train_data_normalized = scaler.fit_transform(train_data_resampled)\n",
    "test_data_normalized = scaler.transform(test_data_numeric)\n",
    "\n",
    "class_weights = {\n",
    "    0: 1.0,\n",
    "    1: 1.3\n",
    "}"
   ]
  },
  {
   "cell_type": "markdown",
   "id": "6fadb5b7",
   "metadata": {
    "papermill": {
     "duration": 0.019064,
     "end_time": "2023-10-05T11:12:37.215764",
     "exception": false,
     "start_time": "2023-10-05T11:12:37.196700",
     "status": "completed"
    },
    "tags": []
   },
   "source": [
    "# MODELLING"
   ]
  },
  {
   "cell_type": "code",
   "execution_count": 69,
   "id": "a0432630",
   "metadata": {
    "execution": {
     "iopub.execute_input": "2023-10-05T11:12:37.256529Z",
     "iopub.status.busy": "2023-10-05T11:12:37.255884Z",
     "iopub.status.idle": "2023-10-05T11:12:39.109804Z",
     "shell.execute_reply": "2023-10-05T11:12:39.108258Z"
    },
    "papermill": {
     "duration": 1.877478,
     "end_time": "2023-10-05T11:12:39.112512",
     "exception": false,
     "start_time": "2023-10-05T11:12:37.235034",
     "status": "completed"
    },
    "tags": []
   },
   "outputs": [],
   "source": [
    "tf.random.set_seed(1234)\n",
    "\n",
    "model = Sequential([\n",
    "    Dense(128, activation='relu', input_shape=(400,), name=\"L1\"),\n",
    "    Dropout(0.5),\n",
    "    Dense(64, activation='relu', name=\"L2\"),\n",
    "    Dropout(0.3),\n",
    "    Dense(32, activation='relu', name=\"L3\"),\n",
    "    Dropout(0.3),\n",
    "    Dense(1, activation='sigmoid', name=\"Output\"),\n",
    "], name=\"my_model\")\n",
    "\n",
    "initial_learning_rate = 0.0001\n",
    "lr_schedule = tf.keras.optimizers.schedules.ExponentialDecay(\n",
    "    initial_learning_rate, decay_steps=10000, decay_rate=0.9, staircase=True\n",
    ")\n",
    "\n",
    "model.compile(\n",
    "    loss=tf.keras.losses.BinaryCrossentropy(),\n",
    "    optimizer=Adam(learning_rate=lr_schedule),\n",
    "    metrics=['accuracy']\n",
    ")"
   ]
  },
  {
   "cell_type": "code",
   "execution_count": 70,
   "id": "3ee13004",
   "metadata": {
    "execution": {
     "iopub.execute_input": "2023-10-05T11:12:39.154763Z",
     "iopub.status.busy": "2023-10-05T11:12:39.154416Z",
     "iopub.status.idle": "2023-10-05T11:12:39.470918Z",
     "shell.execute_reply": "2023-10-05T11:12:39.469288Z"
    },
    "papermill": {
     "duration": 0.342414,
     "end_time": "2023-10-05T11:12:39.475155",
     "exception": false,
     "start_time": "2023-10-05T11:12:39.132741",
     "status": "completed"
    },
    "tags": []
   },
   "outputs": [],
   "source": [
    "early_stopping = EarlyStopping(monitor='val_loss', patience=10, restore_best_weights=True)"
   ]
  },
  {
   "cell_type": "code",
   "execution_count": 71,
   "id": "3f3bb01c",
   "metadata": {
    "execution": {
     "iopub.execute_input": "2023-10-05T11:12:39.572749Z",
     "iopub.status.busy": "2023-10-05T11:12:39.571914Z",
     "iopub.status.idle": "2023-10-05T11:12:39.590392Z",
     "shell.execute_reply": "2023-10-05T11:12:39.588427Z"
    },
    "papermill": {
     "duration": 0.072715,
     "end_time": "2023-10-05T11:12:39.593713",
     "exception": false,
     "start_time": "2023-10-05T11:12:39.520998",
     "status": "completed"
    },
    "tags": []
   },
   "outputs": [],
   "source": [
    "model_checkpoint = ModelCheckpoint(\n",
    "    'spam_classifier_model.h5',\n",
    "    save_best_only=True,\n",
    "    save_weights_only=False,\n",
    "    monitor='val_loss',\n",
    "    mode='min',\n",
    "    verbose=1\n",
    ")"
   ]
  },
  {
   "cell_type": "markdown",
   "id": "61facba9",
   "metadata": {},
   "source": [
    "# TRAINING "
   ]
  },
  {
   "cell_type": "code",
   "execution_count": 72,
   "id": "29eaec2a",
   "metadata": {},
   "outputs": [],
   "source": [
    "def data_generator(data, labels, batch_size):\n",
    "    num_samples = len(data)\n",
    "    while True:\n",
    "        indices = np.random.choice(num_samples, batch_size, replace=False)\n",
    "        yield data[indices], np.array(labels[indices])[:, np.newaxis]\n"
   ]
  },
  {
   "cell_type": "code",
   "execution_count": 73,
   "id": "96ba7e32",
   "metadata": {},
   "outputs": [
    {
     "name": "stdout",
     "output_type": "stream",
     "text": [
      "353/353 [==============================] - ETA: 0s - loss: 0.7786 - accuracy: 0.5555\n",
      "Epoch 1: val_loss improved from inf to 0.68833, saving model to spam_classifier_model.h5\n"
     ]
    },
    {
     "name": "stderr",
     "output_type": "stream",
     "text": [
      "c:\\Users\\JHING\\Desktop\\nn_withflask\\.env\\Lib\\site-packages\\keras\\src\\engine\\training.py:3103: UserWarning: You are saving your model as an HDF5 file via `model.save()`. This file format is considered legacy. We recommend using instead the native Keras format, e.g. `model.save('my_model.keras')`.\n",
      "  saving_api.save_model(\n"
     ]
    },
    {
     "name": "stdout",
     "output_type": "stream",
     "text": [
      "353/353 [==============================] - 20s 28ms/step - loss: 0.7786 - accuracy: 0.5555 - val_loss: 0.6883 - val_accuracy: 0.4644\n",
      "352/353 [============================>.] - ETA: 0s - loss: 0.6554 - accuracy: 0.6658\n",
      "Epoch 1: val_loss improved from 0.68833 to 0.50172, saving model to spam_classifier_model.h5\n"
     ]
    },
    {
     "name": "stderr",
     "output_type": "stream",
     "text": [
      "c:\\Users\\JHING\\Desktop\\nn_withflask\\.env\\Lib\\site-packages\\keras\\src\\engine\\training.py:3103: UserWarning: You are saving your model as an HDF5 file via `model.save()`. This file format is considered legacy. We recommend using instead the native Keras format, e.g. `model.save('my_model.keras')`.\n",
      "  saving_api.save_model(\n"
     ]
    },
    {
     "name": "stdout",
     "output_type": "stream",
     "text": [
      "353/353 [==============================] - 12s 34ms/step - loss: 0.6551 - accuracy: 0.6663 - val_loss: 0.5017 - val_accuracy: 0.6781\n",
      "353/353 [==============================] - ETA: 0s - loss: 0.4998 - accuracy: 0.7786\n",
      "Epoch 1: val_loss improved from 0.50172 to 0.40504, saving model to spam_classifier_model.h5\n",
      "353/353 [==============================] - 7s 19ms/step - loss: 0.4998 - accuracy: 0.7786 - val_loss: 0.4050 - val_accuracy: 0.8064\n"
     ]
    },
    {
     "name": "stderr",
     "output_type": "stream",
     "text": [
      "c:\\Users\\JHING\\Desktop\\nn_withflask\\.env\\Lib\\site-packages\\keras\\src\\engine\\training.py:3103: UserWarning: You are saving your model as an HDF5 file via `model.save()`. This file format is considered legacy. We recommend using instead the native Keras format, e.g. `model.save('my_model.keras')`.\n",
      "  saving_api.save_model(\n"
     ]
    },
    {
     "name": "stdout",
     "output_type": "stream",
     "text": [
      "351/353 [============================>.] - ETA: 0s - loss: 0.4395 - accuracy: 0.8166\n",
      "Epoch 1: val_loss improved from 0.40504 to 0.36212, saving model to spam_classifier_model.h5\n"
     ]
    },
    {
     "name": "stderr",
     "output_type": "stream",
     "text": [
      "c:\\Users\\JHING\\Desktop\\nn_withflask\\.env\\Lib\\site-packages\\keras\\src\\engine\\training.py:3103: UserWarning: You are saving your model as an HDF5 file via `model.save()`. This file format is considered legacy. We recommend using instead the native Keras format, e.g. `model.save('my_model.keras')`.\n",
      "  saving_api.save_model(\n"
     ]
    },
    {
     "name": "stdout",
     "output_type": "stream",
     "text": [
      "353/353 [==============================] - 10s 27ms/step - loss: 0.4394 - accuracy: 0.8165 - val_loss: 0.3621 - val_accuracy: 0.8423\n",
      "352/353 [============================>.] - ETA: 0s - loss: 0.4212 - accuracy: 0.8266\n",
      "Epoch 1: val_loss improved from 0.36212 to 0.35574, saving model to spam_classifier_model.h5\n"
     ]
    },
    {
     "name": "stderr",
     "output_type": "stream",
     "text": [
      "c:\\Users\\JHING\\Desktop\\nn_withflask\\.env\\Lib\\site-packages\\keras\\src\\engine\\training.py:3103: UserWarning: You are saving your model as an HDF5 file via `model.save()`. This file format is considered legacy. We recommend using instead the native Keras format, e.g. `model.save('my_model.keras')`.\n",
      "  saving_api.save_model(\n"
     ]
    },
    {
     "name": "stdout",
     "output_type": "stream",
     "text": [
      "353/353 [==============================] - 10s 27ms/step - loss: 0.4210 - accuracy: 0.8266 - val_loss: 0.3557 - val_accuracy: 0.8437\n",
      "352/353 [============================>.] - ETA: 0s - loss: 0.3884 - accuracy: 0.8425\n",
      "Epoch 1: val_loss improved from 0.35574 to 0.34405, saving model to spam_classifier_model.h5\n",
      "353/353 [==============================] - 11s 29ms/step - loss: 0.3883 - accuracy: 0.8424 - val_loss: 0.3440 - val_accuracy: 0.8506\n"
     ]
    },
    {
     "name": "stderr",
     "output_type": "stream",
     "text": [
      "c:\\Users\\JHING\\Desktop\\nn_withflask\\.env\\Lib\\site-packages\\keras\\src\\engine\\training.py:3103: UserWarning: You are saving your model as an HDF5 file via `model.save()`. This file format is considered legacy. We recommend using instead the native Keras format, e.g. `model.save('my_model.keras')`.\n",
      "  saving_api.save_model(\n"
     ]
    },
    {
     "name": "stdout",
     "output_type": "stream",
     "text": [
      "351/353 [============================>.] - ETA: 0s - loss: 0.3722 - accuracy: 0.8492\n",
      "Epoch 1: val_loss improved from 0.34405 to 0.33731, saving model to spam_classifier_model.h5\n",
      "353/353 [==============================] - 11s 30ms/step - loss: 0.3721 - accuracy: 0.8492 - val_loss: 0.3373 - val_accuracy: 0.8545\n"
     ]
    },
    {
     "name": "stderr",
     "output_type": "stream",
     "text": [
      "c:\\Users\\JHING\\Desktop\\nn_withflask\\.env\\Lib\\site-packages\\keras\\src\\engine\\training.py:3103: UserWarning: You are saving your model as an HDF5 file via `model.save()`. This file format is considered legacy. We recommend using instead the native Keras format, e.g. `model.save('my_model.keras')`.\n",
      "  saving_api.save_model(\n"
     ]
    },
    {
     "name": "stdout",
     "output_type": "stream",
     "text": [
      "352/353 [============================>.] - ETA: 0s - loss: 0.3696 - accuracy: 0.8497\n",
      "Epoch 1: val_loss improved from 0.33731 to 0.31475, saving model to spam_classifier_model.h5\n",
      "353/353 [==============================] - 8s 21ms/step - loss: 0.3696 - accuracy: 0.8497 - val_loss: 0.3148 - val_accuracy: 0.8590\n"
     ]
    },
    {
     "name": "stderr",
     "output_type": "stream",
     "text": [
      "c:\\Users\\JHING\\Desktop\\nn_withflask\\.env\\Lib\\site-packages\\keras\\src\\engine\\training.py:3103: UserWarning: You are saving your model as an HDF5 file via `model.save()`. This file format is considered legacy. We recommend using instead the native Keras format, e.g. `model.save('my_model.keras')`.\n",
      "  saving_api.save_model(\n"
     ]
    },
    {
     "name": "stdout",
     "output_type": "stream",
     "text": [
      "353/353 [==============================] - ETA: 0s - loss: 0.3551 - accuracy: 0.8552\n",
      "Epoch 1: val_loss did not improve from 0.31475\n",
      "353/353 [==============================] - 7s 20ms/step - loss: 0.3551 - accuracy: 0.8552 - val_loss: 0.3151 - val_accuracy: 0.8609\n",
      "352/353 [============================>.] - ETA: 0s - loss: 0.3482 - accuracy: 0.8570\n",
      "Epoch 1: val_loss improved from 0.31475 to 0.30682, saving model to spam_classifier_model.h5\n"
     ]
    },
    {
     "name": "stderr",
     "output_type": "stream",
     "text": [
      "c:\\Users\\JHING\\Desktop\\nn_withflask\\.env\\Lib\\site-packages\\keras\\src\\engine\\training.py:3103: UserWarning: You are saving your model as an HDF5 file via `model.save()`. This file format is considered legacy. We recommend using instead the native Keras format, e.g. `model.save('my_model.keras')`.\n",
      "  saving_api.save_model(\n"
     ]
    },
    {
     "name": "stdout",
     "output_type": "stream",
     "text": [
      "353/353 [==============================] - 7s 21ms/step - loss: 0.3480 - accuracy: 0.8571 - val_loss: 0.3068 - val_accuracy: 0.8673\n",
      "353/353 [==============================] - ETA: 0s - loss: 0.3332 - accuracy: 0.8660\n",
      "Epoch 1: val_loss did not improve from 0.30682\n",
      "353/353 [==============================] - 10s 29ms/step - loss: 0.3332 - accuracy: 0.8660 - val_loss: 0.3093 - val_accuracy: 0.8663\n",
      "352/353 [============================>.] - ETA: 0s - loss: 0.3222 - accuracy: 0.8715\n",
      "Epoch 1: val_loss improved from 0.30682 to 0.30336, saving model to spam_classifier_model.h5\n",
      "353/353 [==============================] - 8s 23ms/step - loss: 0.3223 - accuracy: 0.8713 - val_loss: 0.3034 - val_accuracy: 0.8708\n"
     ]
    },
    {
     "name": "stderr",
     "output_type": "stream",
     "text": [
      "c:\\Users\\JHING\\Desktop\\nn_withflask\\.env\\Lib\\site-packages\\keras\\src\\engine\\training.py:3103: UserWarning: You are saving your model as an HDF5 file via `model.save()`. This file format is considered legacy. We recommend using instead the native Keras format, e.g. `model.save('my_model.keras')`.\n",
      "  saving_api.save_model(\n"
     ]
    },
    {
     "name": "stdout",
     "output_type": "stream",
     "text": [
      "351/353 [============================>.] - ETA: 0s - loss: 0.3308 - accuracy: 0.8653\n",
      "Epoch 1: val_loss improved from 0.30336 to 0.29260, saving model to spam_classifier_model.h5\n",
      "353/353 [==============================] - 9s 24ms/step - loss: 0.3310 - accuracy: 0.8652 - val_loss: 0.2926 - val_accuracy: 0.8717\n"
     ]
    },
    {
     "name": "stderr",
     "output_type": "stream",
     "text": [
      "c:\\Users\\JHING\\Desktop\\nn_withflask\\.env\\Lib\\site-packages\\keras\\src\\engine\\training.py:3103: UserWarning: You are saving your model as an HDF5 file via `model.save()`. This file format is considered legacy. We recommend using instead the native Keras format, e.g. `model.save('my_model.keras')`.\n",
      "  saving_api.save_model(\n"
     ]
    },
    {
     "name": "stdout",
     "output_type": "stream",
     "text": [
      "353/353 [==============================] - ETA: 0s - loss: 0.3075 - accuracy: 0.8754\n",
      "Epoch 1: val_loss improved from 0.29260 to 0.28513, saving model to spam_classifier_model.h5\n",
      "353/353 [==============================] - 9s 24ms/step - loss: 0.3075 - accuracy: 0.8754 - val_loss: 0.2851 - val_accuracy: 0.8767\n"
     ]
    },
    {
     "name": "stderr",
     "output_type": "stream",
     "text": [
      "c:\\Users\\JHING\\Desktop\\nn_withflask\\.env\\Lib\\site-packages\\keras\\src\\engine\\training.py:3103: UserWarning: You are saving your model as an HDF5 file via `model.save()`. This file format is considered legacy. We recommend using instead the native Keras format, e.g. `model.save('my_model.keras')`.\n",
      "  saving_api.save_model(\n"
     ]
    },
    {
     "name": "stdout",
     "output_type": "stream",
     "text": [
      "353/353 [==============================] - ETA: 0s - loss: 0.3024 - accuracy: 0.8804\n",
      "Epoch 1: val_loss did not improve from 0.28513\n",
      "353/353 [==============================] - 6s 17ms/step - loss: 0.3024 - accuracy: 0.8804 - val_loss: 0.2869 - val_accuracy: 0.8767\n",
      "352/353 [============================>.] - ETA: 0s - loss: 0.3077 - accuracy: 0.8753\n",
      "Epoch 1: val_loss improved from 0.28513 to 0.27694, saving model to spam_classifier_model.h5\n",
      "353/353 [==============================] - 7s 18ms/step - loss: 0.3077 - accuracy: 0.8753 - val_loss: 0.2769 - val_accuracy: 0.8806\n"
     ]
    },
    {
     "name": "stderr",
     "output_type": "stream",
     "text": [
      "c:\\Users\\JHING\\Desktop\\nn_withflask\\.env\\Lib\\site-packages\\keras\\src\\engine\\training.py:3103: UserWarning: You are saving your model as an HDF5 file via `model.save()`. This file format is considered legacy. We recommend using instead the native Keras format, e.g. `model.save('my_model.keras')`.\n",
      "  saving_api.save_model(\n"
     ]
    },
    {
     "name": "stdout",
     "output_type": "stream",
     "text": [
      "351/353 [============================>.] - ETA: 0s - loss: 0.2893 - accuracy: 0.8820\n",
      "Epoch 1: val_loss improved from 0.27694 to 0.27116, saving model to spam_classifier_model.h5\n",
      "353/353 [==============================] - 6s 17ms/step - loss: 0.2895 - accuracy: 0.8818 - val_loss: 0.2712 - val_accuracy: 0.8835\n"
     ]
    },
    {
     "name": "stderr",
     "output_type": "stream",
     "text": [
      "c:\\Users\\JHING\\Desktop\\nn_withflask\\.env\\Lib\\site-packages\\keras\\src\\engine\\training.py:3103: UserWarning: You are saving your model as an HDF5 file via `model.save()`. This file format is considered legacy. We recommend using instead the native Keras format, e.g. `model.save('my_model.keras')`.\n",
      "  saving_api.save_model(\n"
     ]
    },
    {
     "name": "stdout",
     "output_type": "stream",
     "text": [
      "351/353 [============================>.] - ETA: 0s - loss: 0.2912 - accuracy: 0.8851\n",
      "Epoch 1: val_loss did not improve from 0.27116\n",
      "353/353 [==============================] - 8s 22ms/step - loss: 0.2913 - accuracy: 0.8848 - val_loss: 0.2798 - val_accuracy: 0.8614\n",
      "351/353 [============================>.] - ETA: 0s - loss: 0.2822 - accuracy: 0.8881\n",
      "Epoch 1: val_loss did not improve from 0.27116\n",
      "353/353 [==============================] - 7s 19ms/step - loss: 0.2824 - accuracy: 0.8879 - val_loss: 0.2731 - val_accuracy: 0.8806\n",
      "353/353 [==============================] - ETA: 0s - loss: 0.2850 - accuracy: 0.8843\n",
      "Epoch 1: val_loss improved from 0.27116 to 0.26561, saving model to spam_classifier_model.h5\n",
      "353/353 [==============================] - 13s 38ms/step - loss: 0.2850 - accuracy: 0.8843 - val_loss: 0.2656 - val_accuracy: 0.8889\n"
     ]
    },
    {
     "name": "stderr",
     "output_type": "stream",
     "text": [
      "c:\\Users\\JHING\\Desktop\\nn_withflask\\.env\\Lib\\site-packages\\keras\\src\\engine\\training.py:3103: UserWarning: You are saving your model as an HDF5 file via `model.save()`. This file format is considered legacy. We recommend using instead the native Keras format, e.g. `model.save('my_model.keras')`.\n",
      "  saving_api.save_model(\n"
     ]
    },
    {
     "name": "stdout",
     "output_type": "stream",
     "text": [
      "351/353 [============================>.] - ETA: 0s - loss: 0.2738 - accuracy: 0.8910\n",
      "Epoch 1: val_loss did not improve from 0.26561\n",
      "353/353 [==============================] - 9s 24ms/step - loss: 0.2737 - accuracy: 0.8911 - val_loss: 0.2666 - val_accuracy: 0.8865\n",
      "350/353 [============================>.] - ETA: 0s - loss: 0.2609 - accuracy: 0.8962\n",
      "Epoch 1: val_loss did not improve from 0.26561\n",
      "353/353 [==============================] - 8s 23ms/step - loss: 0.2608 - accuracy: 0.8962 - val_loss: 0.2687 - val_accuracy: 0.8727\n",
      "352/353 [============================>.] - ETA: 0s - loss: 0.2561 - accuracy: 0.8958\n",
      "Epoch 1: val_loss improved from 0.26561 to 0.26258, saving model to spam_classifier_model.h5\n",
      "353/353 [==============================] - 8s 22ms/step - loss: 0.2559 - accuracy: 0.8959 - val_loss: 0.2626 - val_accuracy: 0.8899\n"
     ]
    },
    {
     "name": "stderr",
     "output_type": "stream",
     "text": [
      "c:\\Users\\JHING\\Desktop\\nn_withflask\\.env\\Lib\\site-packages\\keras\\src\\engine\\training.py:3103: UserWarning: You are saving your model as an HDF5 file via `model.save()`. This file format is considered legacy. We recommend using instead the native Keras format, e.g. `model.save('my_model.keras')`.\n",
      "  saving_api.save_model(\n"
     ]
    },
    {
     "name": "stdout",
     "output_type": "stream",
     "text": [
      "353/353 [==============================] - ETA: 0s - loss: 0.2561 - accuracy: 0.8937\n",
      "Epoch 1: val_loss improved from 0.26258 to 0.25912, saving model to spam_classifier_model.h5\n",
      "353/353 [==============================] - 7s 20ms/step - loss: 0.2561 - accuracy: 0.8937 - val_loss: 0.2591 - val_accuracy: 0.8727\n"
     ]
    },
    {
     "name": "stderr",
     "output_type": "stream",
     "text": [
      "c:\\Users\\JHING\\Desktop\\nn_withflask\\.env\\Lib\\site-packages\\keras\\src\\engine\\training.py:3103: UserWarning: You are saving your model as an HDF5 file via `model.save()`. This file format is considered legacy. We recommend using instead the native Keras format, e.g. `model.save('my_model.keras')`.\n",
      "  saving_api.save_model(\n"
     ]
    },
    {
     "name": "stdout",
     "output_type": "stream",
     "text": [
      "351/353 [============================>.] - ETA: 0s - loss: 0.2529 - accuracy: 0.8960\n",
      "Epoch 1: val_loss improved from 0.25912 to 0.25883, saving model to spam_classifier_model.h5\n",
      "353/353 [==============================] - 10s 27ms/step - loss: 0.2530 - accuracy: 0.8960 - val_loss: 0.2588 - val_accuracy: 0.8747\n"
     ]
    },
    {
     "name": "stderr",
     "output_type": "stream",
     "text": [
      "c:\\Users\\JHING\\Desktop\\nn_withflask\\.env\\Lib\\site-packages\\keras\\src\\engine\\training.py:3103: UserWarning: You are saving your model as an HDF5 file via `model.save()`. This file format is considered legacy. We recommend using instead the native Keras format, e.g. `model.save('my_model.keras')`.\n",
      "  saving_api.save_model(\n"
     ]
    },
    {
     "name": "stdout",
     "output_type": "stream",
     "text": [
      "352/353 [============================>.] - ETA: 0s - loss: 0.2546 - accuracy: 0.8960\n",
      "Epoch 1: val_loss improved from 0.25883 to 0.25801, saving model to spam_classifier_model.h5\n"
     ]
    },
    {
     "name": "stderr",
     "output_type": "stream",
     "text": [
      "c:\\Users\\JHING\\Desktop\\nn_withflask\\.env\\Lib\\site-packages\\keras\\src\\engine\\training.py:3103: UserWarning: You are saving your model as an HDF5 file via `model.save()`. This file format is considered legacy. We recommend using instead the native Keras format, e.g. `model.save('my_model.keras')`.\n",
      "  saving_api.save_model(\n"
     ]
    },
    {
     "name": "stdout",
     "output_type": "stream",
     "text": [
      "353/353 [==============================] - 12s 34ms/step - loss: 0.2544 - accuracy: 0.8960 - val_loss: 0.2580 - val_accuracy: 0.8767\n",
      "352/353 [============================>.] - ETA: 0s - loss: 0.2437 - accuracy: 0.8997\n",
      "Epoch 1: val_loss improved from 0.25801 to 0.25189, saving model to spam_classifier_model.h5\n"
     ]
    },
    {
     "name": "stderr",
     "output_type": "stream",
     "text": [
      "c:\\Users\\JHING\\Desktop\\nn_withflask\\.env\\Lib\\site-packages\\keras\\src\\engine\\training.py:3103: UserWarning: You are saving your model as an HDF5 file via `model.save()`. This file format is considered legacy. We recommend using instead the native Keras format, e.g. `model.save('my_model.keras')`.\n",
      "  saving_api.save_model(\n"
     ]
    },
    {
     "name": "stdout",
     "output_type": "stream",
     "text": [
      "353/353 [==============================] - 10s 27ms/step - loss: 0.2441 - accuracy: 0.8996 - val_loss: 0.2519 - val_accuracy: 0.8796\n",
      "353/353 [==============================] - ETA: 0s - loss: 0.2388 - accuracy: 0.9050\n",
      "Epoch 1: val_loss did not improve from 0.25189\n",
      "353/353 [==============================] - 8s 21ms/step - loss: 0.2388 - accuracy: 0.9050 - val_loss: 0.2555 - val_accuracy: 0.8781\n",
      "349/353 [============================>.] - ETA: 0s - loss: 0.2319 - accuracy: 0.9046\n",
      "Epoch 1: val_loss improved from 0.25189 to 0.24749, saving model to spam_classifier_model.h5\n",
      "353/353 [==============================] - 4s 12ms/step - loss: 0.2316 - accuracy: 0.9048 - val_loss: 0.2475 - val_accuracy: 0.8786\n"
     ]
    },
    {
     "name": "stderr",
     "output_type": "stream",
     "text": [
      "c:\\Users\\JHING\\Desktop\\nn_withflask\\.env\\Lib\\site-packages\\keras\\src\\engine\\training.py:3103: UserWarning: You are saving your model as an HDF5 file via `model.save()`. This file format is considered legacy. We recommend using instead the native Keras format, e.g. `model.save('my_model.keras')`.\n",
      "  saving_api.save_model(\n"
     ]
    },
    {
     "name": "stdout",
     "output_type": "stream",
     "text": [
      "353/353 [==============================] - ETA: 0s - loss: 0.2238 - accuracy: 0.9093\n",
      "Epoch 1: val_loss improved from 0.24749 to 0.24645, saving model to spam_classifier_model.h5\n",
      "353/353 [==============================] - 5s 13ms/step - loss: 0.2238 - accuracy: 0.9093 - val_loss: 0.2464 - val_accuracy: 0.8958\n"
     ]
    },
    {
     "name": "stderr",
     "output_type": "stream",
     "text": [
      "c:\\Users\\JHING\\Desktop\\nn_withflask\\.env\\Lib\\site-packages\\keras\\src\\engine\\training.py:3103: UserWarning: You are saving your model as an HDF5 file via `model.save()`. This file format is considered legacy. We recommend using instead the native Keras format, e.g. `model.save('my_model.keras')`.\n",
      "  saving_api.save_model(\n"
     ]
    },
    {
     "name": "stdout",
     "output_type": "stream",
     "text": [
      "351/353 [============================>.] - ETA: 0s - loss: 0.2225 - accuracy: 0.9089\n",
      "Epoch 1: val_loss did not improve from 0.24645\n",
      "353/353 [==============================] - 5s 13ms/step - loss: 0.2228 - accuracy: 0.9090 - val_loss: 0.2486 - val_accuracy: 0.8811\n",
      "351/353 [============================>.] - ETA: 0s - loss: 0.2246 - accuracy: 0.9109\n",
      "Epoch 1: val_loss did not improve from 0.24645\n",
      "353/353 [==============================] - 6s 17ms/step - loss: 0.2243 - accuracy: 0.9110 - val_loss: 0.2508 - val_accuracy: 0.8806\n",
      "352/353 [============================>.] - ETA: 0s - loss: 0.2216 - accuracy: 0.9124\n",
      "Epoch 1: val_loss did not improve from 0.24645\n",
      "353/353 [==============================] - 5s 13ms/step - loss: 0.2215 - accuracy: 0.9123 - val_loss: 0.2506 - val_accuracy: 0.8796\n",
      "350/353 [============================>.] - ETA: 0s - loss: 0.2160 - accuracy: 0.9118\n",
      "Epoch 1: val_loss improved from 0.24645 to 0.24563, saving model to spam_classifier_model.h5\n",
      "353/353 [==============================] - 4s 12ms/step - loss: 0.2157 - accuracy: 0.9118 - val_loss: 0.2456 - val_accuracy: 0.8816\n"
     ]
    },
    {
     "name": "stderr",
     "output_type": "stream",
     "text": [
      "c:\\Users\\JHING\\Desktop\\nn_withflask\\.env\\Lib\\site-packages\\keras\\src\\engine\\training.py:3103: UserWarning: You are saving your model as an HDF5 file via `model.save()`. This file format is considered legacy. We recommend using instead the native Keras format, e.g. `model.save('my_model.keras')`.\n",
      "  saving_api.save_model(\n"
     ]
    },
    {
     "name": "stdout",
     "output_type": "stream",
     "text": [
      "349/353 [============================>.] - ETA: 0s - loss: 0.2110 - accuracy: 0.9150\n",
      "Epoch 1: val_loss improved from 0.24563 to 0.24478, saving model to spam_classifier_model.h5\n",
      "353/353 [==============================] - 5s 13ms/step - loss: 0.2106 - accuracy: 0.9152 - val_loss: 0.2448 - val_accuracy: 0.8968\n"
     ]
    },
    {
     "name": "stderr",
     "output_type": "stream",
     "text": [
      "c:\\Users\\JHING\\Desktop\\nn_withflask\\.env\\Lib\\site-packages\\keras\\src\\engine\\training.py:3103: UserWarning: You are saving your model as an HDF5 file via `model.save()`. This file format is considered legacy. We recommend using instead the native Keras format, e.g. `model.save('my_model.keras')`.\n",
      "  saving_api.save_model(\n"
     ]
    },
    {
     "name": "stdout",
     "output_type": "stream",
     "text": [
      "351/353 [============================>.] - ETA: 0s - loss: 0.2063 - accuracy: 0.9173\n",
      "Epoch 1: val_loss did not improve from 0.24478\n",
      "353/353 [==============================] - 7s 20ms/step - loss: 0.2062 - accuracy: 0.9173 - val_loss: 0.2560 - val_accuracy: 0.8806\n",
      "352/353 [============================>.] - ETA: 0s - loss: 0.2062 - accuracy: 0.9156\n",
      "Epoch 1: val_loss did not improve from 0.24478\n",
      "353/353 [==============================] - 7s 19ms/step - loss: 0.2059 - accuracy: 0.9158 - val_loss: 0.2480 - val_accuracy: 0.8821\n",
      "350/353 [============================>.] - ETA: 0s - loss: 0.2042 - accuracy: 0.9173\n",
      "Epoch 1: val_loss improved from 0.24478 to 0.24023, saving model to spam_classifier_model.h5\n",
      "353/353 [==============================] - 10s 27ms/step - loss: 0.2041 - accuracy: 0.9174 - val_loss: 0.2402 - val_accuracy: 0.8835\n"
     ]
    },
    {
     "name": "stderr",
     "output_type": "stream",
     "text": [
      "c:\\Users\\JHING\\Desktop\\nn_withflask\\.env\\Lib\\site-packages\\keras\\src\\engine\\training.py:3103: UserWarning: You are saving your model as an HDF5 file via `model.save()`. This file format is considered legacy. We recommend using instead the native Keras format, e.g. `model.save('my_model.keras')`.\n",
      "  saving_api.save_model(\n"
     ]
    },
    {
     "name": "stdout",
     "output_type": "stream",
     "text": [
      "350/353 [============================>.] - ETA: 0s - loss: 0.2035 - accuracy: 0.9165\n",
      "Epoch 1: val_loss did not improve from 0.24023\n",
      "353/353 [==============================] - 8s 23ms/step - loss: 0.2032 - accuracy: 0.9166 - val_loss: 0.2415 - val_accuracy: 0.8826\n",
      "350/353 [============================>.] - ETA: 0s - loss: 0.1922 - accuracy: 0.9234\n",
      "Epoch 1: val_loss did not improve from 0.24023\n",
      "353/353 [==============================] - 5s 14ms/step - loss: 0.1921 - accuracy: 0.9235 - val_loss: 0.2503 - val_accuracy: 0.8845\n",
      "350/353 [============================>.] - ETA: 0s - loss: 0.1891 - accuracy: 0.9215\n",
      "Epoch 1: val_loss did not improve from 0.24023\n",
      "353/353 [==============================] - 8s 22ms/step - loss: 0.1900 - accuracy: 0.9212 - val_loss: 0.2456 - val_accuracy: 0.8845\n",
      "352/353 [============================>.] - ETA: 0s - loss: 0.1890 - accuracy: 0.9241\n",
      "Epoch 1: val_loss did not improve from 0.24023\n",
      "353/353 [==============================] - 7s 21ms/step - loss: 0.1888 - accuracy: 0.9242 - val_loss: 0.2458 - val_accuracy: 0.8845\n",
      "351/353 [============================>.] - ETA: 0s - loss: 0.1862 - accuracy: 0.9219\n",
      "Epoch 1: val_loss did not improve from 0.24023\n",
      "353/353 [==============================] - 6s 16ms/step - loss: 0.1866 - accuracy: 0.9218 - val_loss: 0.2462 - val_accuracy: 0.8850\n",
      "352/353 [============================>.] - ETA: 0s - loss: 0.1907 - accuracy: 0.9243\n",
      "Epoch 1: val_loss did not improve from 0.24023\n",
      "353/353 [==============================] - 6s 18ms/step - loss: 0.1906 - accuracy: 0.9243 - val_loss: 0.2427 - val_accuracy: 0.8885\n",
      "353/353 [==============================] - ETA: 0s - loss: 0.1885 - accuracy: 0.9238\n",
      "Epoch 1: val_loss did not improve from 0.24023\n",
      "353/353 [==============================] - 6s 18ms/step - loss: 0.1885 - accuracy: 0.9238 - val_loss: 0.2425 - val_accuracy: 0.8889\n",
      "351/353 [============================>.] - ETA: 0s - loss: 0.1805 - accuracy: 0.9265\n",
      "Epoch 1: val_loss did not improve from 0.24023\n",
      "353/353 [==============================] - 5s 14ms/step - loss: 0.1808 - accuracy: 0.9263 - val_loss: 0.2441 - val_accuracy: 0.8880\n",
      "352/353 [============================>.] - ETA: 0s - loss: 0.1821 - accuracy: 0.9240\n",
      "Epoch 1: val_loss did not improve from 0.24023\n",
      "353/353 [==============================] - 6s 18ms/step - loss: 0.1820 - accuracy: 0.9242 - val_loss: 0.2416 - val_accuracy: 0.8875\n",
      "349/353 [============================>.] - ETA: 0s - loss: 0.1745 - accuracy: 0.9281\n",
      "Epoch 1: val_loss did not improve from 0.24023\n",
      "353/353 [==============================] - 5s 13ms/step - loss: 0.1745 - accuracy: 0.9282 - val_loss: 0.2409 - val_accuracy: 0.9027\n",
      "350/353 [============================>.] - ETA: 0s - loss: 0.1793 - accuracy: 0.9267\n",
      "Epoch 1: val_loss did not improve from 0.24023\n",
      "353/353 [==============================] - 5s 13ms/step - loss: 0.1796 - accuracy: 0.9266 - val_loss: 0.2462 - val_accuracy: 0.8865\n",
      "350/353 [============================>.] - ETA: 0s - loss: 0.1775 - accuracy: 0.9274\n",
      "Epoch 1: val_loss did not improve from 0.24023\n",
      "353/353 [==============================] - 5s 13ms/step - loss: 0.1776 - accuracy: 0.9276 - val_loss: 0.2516 - val_accuracy: 0.8870\n",
      "351/353 [============================>.] - ETA: 0s - loss: 0.1730 - accuracy: 0.9290\n",
      "Epoch 1: val_loss did not improve from 0.24023\n",
      "353/353 [==============================] - 5s 15ms/step - loss: 0.1726 - accuracy: 0.9291 - val_loss: 0.2465 - val_accuracy: 0.8860\n",
      "350/353 [============================>.] - ETA: 0s - loss: 0.1667 - accuracy: 0.9303\n",
      "Epoch 1: val_loss did not improve from 0.24023\n",
      "353/353 [==============================] - 5s 13ms/step - loss: 0.1666 - accuracy: 0.9304 - val_loss: 0.2541 - val_accuracy: 0.8875\n",
      "353/353 [==============================] - ETA: 0s - loss: 0.1749 - accuracy: 0.9286\n",
      "Epoch 1: val_loss did not improve from 0.24023\n",
      "353/353 [==============================] - 5s 14ms/step - loss: 0.1749 - accuracy: 0.9286 - val_loss: 0.2524 - val_accuracy: 0.8880\n",
      "352/353 [============================>.] - ETA: 0s - loss: 0.1604 - accuracy: 0.9344\n",
      "Epoch 1: val_loss did not improve from 0.24023\n",
      "353/353 [==============================] - 5s 13ms/step - loss: 0.1602 - accuracy: 0.9345 - val_loss: 0.2497 - val_accuracy: 0.8880\n",
      "351/353 [============================>.] - ETA: 0s - loss: 0.1629 - accuracy: 0.9323\n",
      "Epoch 1: val_loss did not improve from 0.24023\n",
      "353/353 [==============================] - 5s 15ms/step - loss: 0.1631 - accuracy: 0.9322 - val_loss: 0.2540 - val_accuracy: 0.8889\n",
      "352/353 [============================>.] - ETA: 0s - loss: 0.1546 - accuracy: 0.9355\n",
      "Epoch 1: val_loss did not improve from 0.24023\n",
      "353/353 [==============================] - 6s 16ms/step - loss: 0.1546 - accuracy: 0.9354 - val_loss: 0.2508 - val_accuracy: 0.8939\n",
      "353/353 [==============================] - ETA: 0s - loss: 0.1549 - accuracy: 0.9360\n",
      "Epoch 1: val_loss did not improve from 0.24023\n",
      "353/353 [==============================] - 5s 14ms/step - loss: 0.1549 - accuracy: 0.9360 - val_loss: 0.2550 - val_accuracy: 0.8904\n",
      "353/353 [==============================] - ETA: 0s - loss: 0.1594 - accuracy: 0.9333\n",
      "Epoch 1: val_loss did not improve from 0.24023\n",
      "353/353 [==============================] - 6s 16ms/step - loss: 0.1594 - accuracy: 0.9333 - val_loss: 0.2539 - val_accuracy: 0.8939\n",
      "351/353 [============================>.] - ETA: 0s - loss: 0.1534 - accuracy: 0.9356\n",
      "Epoch 1: val_loss did not improve from 0.24023\n",
      "353/353 [==============================] - 5s 13ms/step - loss: 0.1531 - accuracy: 0.9356 - val_loss: 0.2572 - val_accuracy: 0.8953\n",
      "353/353 [==============================] - ETA: 0s - loss: 0.1541 - accuracy: 0.9329\n",
      "Epoch 1: val_loss did not improve from 0.24023\n",
      "353/353 [==============================] - 5s 14ms/step - loss: 0.1541 - accuracy: 0.9329 - val_loss: 0.2515 - val_accuracy: 0.8968\n",
      "INFO:tensorflow:Assets written to: my_model_tf\\assets\n"
     ]
    },
    {
     "name": "stderr",
     "output_type": "stream",
     "text": [
      "INFO:tensorflow:Assets written to: my_model_tf\\assets\n"
     ]
    },
    {
     "name": "stdout",
     "output_type": "stream",
     "text": [
      "719/719 [==============================] - 4s 5ms/step\n",
      "64/64 [==============================] - 0s 4ms/step\n",
      "Train Accuracy -  0.9495604491252503\n",
      "Test Accuracy -  0.8968058968058968\n"
     ]
    }
   ],
   "source": [
    "# Clear session before starting\n",
    "tf.keras.backend.clear_session()\n",
    "\n",
    "# Training loop\n",
    "batch_size = 65\n",
    "steps_per_epoch = len(train_data_normalized) // batch_size\n",
    "\n",
    "epochs = 60\n",
    "history_list = []\n",
    "\n",
    "for epoch in range(epochs):\n",
    "    history = model.fit(\n",
    "        data_generator(train_data_normalized, train_labels_resampled, batch_size),\n",
    "        epochs=1,\n",
    "        steps_per_epoch=steps_per_epoch,\n",
    "        validation_data=(test_data_normalized, np.array(test_labels.values)[:, np.newaxis]),\n",
    "        callbacks=[early_stopping, model_checkpoint],\n",
    "        class_weight=class_weights\n",
    "    )\n",
    "\n",
    "    history_list.append(history.history)\n",
    "\n",
    "# Save training history\n",
    "with open('training_history.pkl', 'wb') as file:\n",
    "    pickle.dump(history_list, file)\n",
    "\n",
    "# Save model in the native Keras format\n",
    "model.save('my_model.keras')\n",
    "\n",
    "# Save model in TensorFlow SavedModel format\n",
    "model.save('my_model_tf')\n",
    "\n",
    "# Load the model from the TensorFlow SavedModel format\n",
    "loaded_model = tf.keras.models.load_model('my_model_tf')\n",
    "\n",
    "# Make predictions and evaluate\n",
    "train_pred_prob = loaded_model.predict(train_data_normalized)\n",
    "test_pred_prob = loaded_model.predict(test_data_normalized)\n",
    "\n",
    "train_pred = (train_pred_prob > 0.5).astype(int)\n",
    "test_pred = (test_pred_prob > 0.5).astype(int)\n",
    "\n",
    "print('Train Accuracy - ', accuracy_score(train_labels_resampled, train_pred))\n",
    "print(\"Test Accuracy - \", accuracy_score(test_labels, test_pred))"
   ]
  },
  {
   "cell_type": "markdown",
   "id": "1ee40e75",
   "metadata": {},
   "source": [
    "# RESULT"
   ]
  },
  {
   "cell_type": "code",
   "execution_count": 74,
   "id": "710df126",
   "metadata": {},
   "outputs": [
    {
     "data": {
      "text/plain": [
       "<matplotlib.legend.Legend at 0x2b49c29b0d0>"
      ]
     },
     "execution_count": 74,
     "metadata": {},
     "output_type": "execute_result"
    },
    {
     "data": {
      "image/png": "[encoded data removed]",
      "text/plain": [
       "<Figure size 1200x600 with 2 Axes>"
      ]
     },
     "metadata": {},
     "output_type": "display_data"
    }
   ],
   "source": [
    "with open('training_history.pkl', 'rb') as file:\n",
    "        history_list = pickle.load(file)\n",
    "        \n",
    "accuracy = [acc for epoch_history in history_list for acc in epoch_history['accuracy']]\n",
    "val_accuracy = [val_acc for epoch_history in history_list for val_acc in epoch_history['val_accuracy']]\n",
    "loss = [l for epoch_history in history_list for l in epoch_history['loss']]\n",
    "val_loss = [val_l for epoch_history in history_list for val_l in epoch_history['val_loss']]\n",
    "\n",
    "plt.figure(figsize=(12, 6))\n",
    "\n",
    "plt.subplot(1, 2, 1)\n",
    "plt.plot(accuracy, label='accuracy')\n",
    "plt.plot(val_accuracy, label='val_accuracy')\n",
    "plt.xlabel('Epochs')\n",
    "plt.ylabel('Accuracy')\n",
    "plt.title('Accuracy Over Epochs')\n",
    "plt.legend()\n",
    "\n",
    "plt.subplot(1, 2, 2)\n",
    "plt.plot(loss, label='loss')\n",
    "plt.plot(val_loss, label='val_loss')\n",
    "plt.xlabel('Epochs')\n",
    "plt.ylabel('Loss')\n",
    "plt.title('Loss Over Epochs')\n",
    "plt.legend()"
   ]
  },
  {
   "cell_type": "code",
   "execution_count": 75,
   "id": "fc1e80d6",
   "metadata": {},
   "outputs": [
    {
     "name": "stdout",
     "output_type": "stream",
     "text": [
      "162/162 [==============================] - 1s 5ms/step\n",
      "Accuracy: 0.7951\n",
      "Classification Report:\n",
      "               precision    recall  f1-score   support\n",
      "\n",
      "         ham       0.99      0.77      0.87      4510\n",
      "        spam       0.38      0.95      0.54       653\n",
      "\n",
      "    accuracy                           0.80      5163\n",
      "   macro avg       0.68      0.86      0.70      5163\n",
      "weighted avg       0.91      0.80      0.83      5163\n",
      "\n"
     ]
    },
    {
     "data": {
      "image/png": "[encoded data removed]",
      "text/plain": [
       "<Figure size 640x480 with 2 Axes>"
      ]
     },
     "metadata": {},
     "output_type": "display_data"
    }
   ],
   "source": [
    "from sklearn.metrics import accuracy_score, classification_report, confusion_matrix\n",
    "import seaborn as sns\n",
    "import matplotlib.pyplot as plt\n",
    "import pandas as pd\n",
    "from joblib import dump\n",
    "\n",
    "\n",
    "# Load the trained model and vectorizer\n",
    "try:\n",
    "    dump(model, 'my_model.keras')\n",
    "    with open('vectorizer.joblib', 'wb') as file:\n",
    "        dump(vectorizer, file)\n",
    "except Exception as e:\n",
    "    print(f\"Error loading model or vectorizer: {e}\")\n",
    "    # Add further error handling if needed\n",
    "\n",
    "# Load the test dataset\n",
    "try:\n",
    "    test_data = pd.read_csv('test_dataset.csv', encoding='latin-1')\n",
    "    test_data.drop_duplicates(inplace=True)\n",
    "    test_data['v1'] = test_data['v1'].map({'spam': 1, 'ham': 0})\n",
    "    test_data = test_data.dropna(subset=['v2'])\n",
    "    test_data.drop_duplicates(inplace=True)\n",
    "except Exception as e:\n",
    "    print(f\"Error loading test dataset: {e}\")\n",
    "    # Add further error handling if needed\n",
    "\n",
    "# Make predictions\n",
    "try:\n",
    "    test_predictions = model.predict(vectorizer.transform(test_data['v2']))\n",
    "except Exception as e:\n",
    "    print(f\"Error making predictions: {e}\")\n",
    "    # Add further error handling if needed\n",
    "\n",
    "# Evaluate the model\n",
    "accuracy = accuracy_score(test_data['v1'], (test_predictions > 0.5).astype(int))\n",
    "print(f'Accuracy: {accuracy:.4f}')\n",
    "\n",
    "# Classification Report\n",
    "labels = ['ham', 'spam']\n",
    "classification_rep = classification_report(test_data['v1'], (test_predictions > 0.5).astype(int), target_names=labels)\n",
    "print('Classification Report:\\n', classification_rep)\n",
    "\n",
    "# Confusion Matrix\n",
    "cm = confusion_matrix(test_data['v1'], (test_predictions > 0.5).astype(int))\n",
    "sns.heatmap(cm, annot=True, fmt='d', cmap='Blues', xticklabels=labels, yticklabels=labels)\n",
    "plt.xlabel('Predicted')\n",
    "plt.ylabel('True')\n",
    "plt.show()\n"
   ]
  }
 ],
 "metadata": {
  "kernelspec": {
   "display_name": "Python 3",
   "language": "python",
   "name": "python3"
  },
  "language_info": {
   "codemirror_mode": {
    "name": "ipython",
    "version": 3
   },
   "file_extension": ".py",
   "mimetype": "text/x-python",
   "name": "python",
   "nbconvert_exporter": "python",
   "pygments_lexer": "ipython3",
   "version": "3.11.3"
  },
  "papermill": {
   "default_parameters": {},
   "duration": 16.820316,
   "end_time": "2023-10-05T11:12:40.386200",
   "environment_variables": {},
   "exception": null,
   "input_path": "__notebook__.ipynb",
   "output_path": "__notebook__.ipynb",
   "parameters": {},
   "start_time": "2023-10-05T11:12:23.565884",
   "version": "2.4.0"
  }
 },
 "nbformat": 4,
 "nbformat_minor": 5
}
